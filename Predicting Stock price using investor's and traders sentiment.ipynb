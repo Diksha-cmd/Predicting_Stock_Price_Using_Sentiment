{
 "cells": [
  {
   "cell_type": "markdown",
   "metadata": {},
   "source": [
    "# Sentiment Analysis for stock price prediction"
   ]
  },
  {
   "cell_type": "markdown",
   "metadata": {},
   "source": [
    "#### Data collection and cleaning"
   ]
  },
  {
   "cell_type": "code",
   "execution_count": 411,
   "metadata": {},
   "outputs": [
    {
     "name": "stderr",
     "output_type": "stream",
     "text": [
      "[nltk_data] Downloading package punkt to\n",
      "[nltk_data]     C:\\Users\\tiwar\\AppData\\Roaming\\nltk_data...\n",
      "[nltk_data]   Package punkt is already up-to-date!\n",
      "[nltk_data] Downloading package stopwords to\n",
      "[nltk_data]     C:\\Users\\tiwar\\AppData\\Roaming\\nltk_data...\n",
      "[nltk_data]   Package stopwords is already up-to-date!\n"
     ]
    }
   ],
   "source": [
    "%matplotlib inline\n",
    "import matplotlib.pyplot as plt\n",
    "import numpy as np\n",
    "import pandas as pd\n",
    "import emoji\n",
    "import tensorflow as tf\n",
    "from tensorflow import keras\n",
    "from tensorflow.keras import layers\n",
    "from tensorflow.keras import optimizers\n",
    "from tensorflow.keras.datasets import imdb\n",
    "from tensorflow.keras.preprocessing import sequence\n",
    "# import nltk\n",
    "from sklearn.model_selection import train_test_split\n",
    "\n",
    "import nltk\n",
    "nltk.download('punkt')\n",
    "nltk.download('stopwords')\n",
    "from nltk.corpus import stopwords"
   ]
  },
  {
   "cell_type": "code",
   "execution_count": 413,
   "metadata": {},
   "outputs": [],
   "source": [
    "from tensorflow.keras.datasets import imdb\n",
    "import pandas as pd\n",
    "import numpy as np\n",
    "from tensorflow.keras.layers import LSTM, Activation, Dropout, Dense, Input, Conv1D, MaxPooling1D, GlobalMaxPooling1D\n",
    "from tensorflow.keras.layers import Embedding\n",
    "from tensorflow.keras.models import Model\n",
    "import string\n",
    "import re\n",
    "from tensorflow.keras.preprocessing.text import Tokenizer\n",
    "from sklearn.preprocessing import LabelBinarizer\n",
    "from tensorflow.keras.preprocessing.sequence import pad_sequences\n",
    "import tensorflow.keras\n",
    "from sklearn.model_selection import train_test_split"
   ]
  },
  {
   "cell_type": "code",
   "execution_count": 414,
   "metadata": {},
   "outputs": [],
   "source": [
    "df = pd.read_csv(r'C:\\Users\\tiwar\\Downloads\\StockTwits_Mar-Jun.csv')"
   ]
  },
  {
   "cell_type": "code",
   "execution_count": 415,
   "metadata": {},
   "outputs": [
    {
     "name": "stderr",
     "output_type": "stream",
     "text": [
      "<ipython-input-415-621b8b2919f5>:3: SettingWithCopyWarning: \n",
      "A value is trying to be set on a copy of a slice from a DataFrame\n",
      "\n",
      "See the caveats in the documentation: https://pandas.pydata.org/pandas-docs/stable/user_guide/indexing.html#returning-a-view-versus-a-copy\n",
      "  data.dropna(inplace=True)\n"
     ]
    },
    {
     "data": {
      "text/plain": [
       "Bullish    51231\n",
       "Bearish    18231\n",
       "Name: senti, dtype: int64"
      ]
     },
     "execution_count": 415,
     "metadata": {},
     "output_type": "execute_result"
    }
   ],
   "source": [
    "df.drop(['Unnamed: 0','id'],axis=1,inplace=True)\n",
    "data = df[df['senti']!=\" \"]\n",
    "data.dropna(inplace=True)\n",
    "data['senti'].value_counts()"
   ]
  },
  {
   "cell_type": "markdown",
   "metadata": {},
   "source": [
    "#Cleaning the data"
   ]
  },
  {
   "cell_type": "code",
   "execution_count": 416,
   "metadata": {},
   "outputs": [],
   "source": [
    "def cleaned_text(data):\n",
    "    data.dropna(inplace=True)\n",
    "\n",
    "    def de_emojify(string):\n",
    "        tweet = emoji.demojize(string)\n",
    "        tweet = tweet.replace(\":\", \" \")\n",
    "        tweet = ' '.join(tweet.split())\n",
    "        return tweet\n",
    "\n",
    "    def remove_urls(vTEXT):\n",
    "        vTEXT = re.sub(r'(https|http)?:\\/\\/(\\w|\\.|\\/|\\?|\\=|\\&|\\%)*\\b', '', vTEXT, flags=re.MULTILINE)\n",
    "        return (vTEXT)\n",
    "\n",
    "    def remove_tags(string):\n",
    "        result = re.sub('<.*?>', '', string)\n",
    "        return result\n",
    "\n",
    "    def remove_tags1(string):\n",
    "        result = re.sub(r'[^\\w\\s]', ' ', string)\n",
    "        return result\n",
    "\n",
    "    def remove_punctuations(string):\n",
    "        result = ' '.join(re.sub(r\"[\\.\\,\\!\\?\\:\\;\\-\\=]\", \" \", string).split())\n",
    "        return result\n",
    "\n",
    "    data['body'] = data['body'].apply(lambda cw: de_emojify(cw))\n",
    "    data['length'] = data['body'].apply(lambda x: len(x.split()))\n",
    "    data['body'] = data['body'].apply(lambda cw: remove_tags(cw))\n",
    "    data['body']= data['body'].apply(lambda cw : remove_tags1(cw))\n",
    "    data['body'] = data['body'].apply(lambda cw: remove_punctuations(cw))\n",
    "    data.dropna(inplace=True)\n",
    "    data['body'] = data['body'].str.lower()\n",
    "    data['tokenized body'] = data['body'].apply(nltk.word_tokenize).tolist()\n",
    "    data = data[data['length']>3]\n",
    "    data['body'] = data['body'].apply(lambda x:x.replace('AAPL',''))\n",
    "    return data"
   ]
  },
  {
   "cell_type": "code",
   "execution_count": 417,
   "metadata": {},
   "outputs": [
    {
     "name": "stderr",
     "output_type": "stream",
     "text": [
      "<ipython-input-416-27ad528c28bc>:2: SettingWithCopyWarning: \n",
      "A value is trying to be set on a copy of a slice from a DataFrame\n",
      "\n",
      "See the caveats in the documentation: https://pandas.pydata.org/pandas-docs/stable/user_guide/indexing.html#returning-a-view-versus-a-copy\n",
      "  data.dropna(inplace=True)\n",
      "<ipython-input-416-27ad528c28bc>:26: SettingWithCopyWarning: \n",
      "A value is trying to be set on a copy of a slice from a DataFrame.\n",
      "Try using .loc[row_indexer,col_indexer] = value instead\n",
      "\n",
      "See the caveats in the documentation: https://pandas.pydata.org/pandas-docs/stable/user_guide/indexing.html#returning-a-view-versus-a-copy\n",
      "  data['body'] = data['body'].apply(lambda cw: de_emojify(cw))\n",
      "<ipython-input-416-27ad528c28bc>:27: SettingWithCopyWarning: \n",
      "A value is trying to be set on a copy of a slice from a DataFrame.\n",
      "Try using .loc[row_indexer,col_indexer] = value instead\n",
      "\n",
      "See the caveats in the documentation: https://pandas.pydata.org/pandas-docs/stable/user_guide/indexing.html#returning-a-view-versus-a-copy\n",
      "  data['length'] = data['body'].apply(lambda x: len(x.split()))\n",
      "<ipython-input-416-27ad528c28bc>:28: SettingWithCopyWarning: \n",
      "A value is trying to be set on a copy of a slice from a DataFrame.\n",
      "Try using .loc[row_indexer,col_indexer] = value instead\n",
      "\n",
      "See the caveats in the documentation: https://pandas.pydata.org/pandas-docs/stable/user_guide/indexing.html#returning-a-view-versus-a-copy\n",
      "  data['body'] = data['body'].apply(lambda cw: remove_tags(cw))\n",
      "<ipython-input-416-27ad528c28bc>:29: SettingWithCopyWarning: \n",
      "A value is trying to be set on a copy of a slice from a DataFrame.\n",
      "Try using .loc[row_indexer,col_indexer] = value instead\n",
      "\n",
      "See the caveats in the documentation: https://pandas.pydata.org/pandas-docs/stable/user_guide/indexing.html#returning-a-view-versus-a-copy\n",
      "  data['body']= data['body'].apply(lambda cw : remove_tags1(cw))\n",
      "<ipython-input-416-27ad528c28bc>:30: SettingWithCopyWarning: \n",
      "A value is trying to be set on a copy of a slice from a DataFrame.\n",
      "Try using .loc[row_indexer,col_indexer] = value instead\n",
      "\n",
      "See the caveats in the documentation: https://pandas.pydata.org/pandas-docs/stable/user_guide/indexing.html#returning-a-view-versus-a-copy\n",
      "  data['body'] = data['body'].apply(lambda cw: remove_punctuations(cw))\n",
      "<ipython-input-416-27ad528c28bc>:31: SettingWithCopyWarning: \n",
      "A value is trying to be set on a copy of a slice from a DataFrame\n",
      "\n",
      "See the caveats in the documentation: https://pandas.pydata.org/pandas-docs/stable/user_guide/indexing.html#returning-a-view-versus-a-copy\n",
      "  data.dropna(inplace=True)\n",
      "<ipython-input-416-27ad528c28bc>:32: SettingWithCopyWarning: \n",
      "A value is trying to be set on a copy of a slice from a DataFrame.\n",
      "Try using .loc[row_indexer,col_indexer] = value instead\n",
      "\n",
      "See the caveats in the documentation: https://pandas.pydata.org/pandas-docs/stable/user_guide/indexing.html#returning-a-view-versus-a-copy\n",
      "  data['body'] = data['body'].str.lower()\n",
      "<ipython-input-416-27ad528c28bc>:33: SettingWithCopyWarning: \n",
      "A value is trying to be set on a copy of a slice from a DataFrame.\n",
      "Try using .loc[row_indexer,col_indexer] = value instead\n",
      "\n",
      "See the caveats in the documentation: https://pandas.pydata.org/pandas-docs/stable/user_guide/indexing.html#returning-a-view-versus-a-copy\n",
      "  data['tokenized body'] = data['body'].apply(nltk.word_tokenize).tolist()\n",
      "<ipython-input-416-27ad528c28bc>:35: SettingWithCopyWarning: \n",
      "A value is trying to be set on a copy of a slice from a DataFrame.\n",
      "Try using .loc[row_indexer,col_indexer] = value instead\n",
      "\n",
      "See the caveats in the documentation: https://pandas.pydata.org/pandas-docs/stable/user_guide/indexing.html#returning-a-view-versus-a-copy\n",
      "  data['body'] = data['body'].apply(lambda x:x.replace('AAPL',''))\n"
     ]
    },
    {
     "data": {
      "text/html": [
       "<div>\n",
       "<style scoped>\n",
       "    .dataframe tbody tr th:only-of-type {\n",
       "        vertical-align: middle;\n",
       "    }\n",
       "\n",
       "    .dataframe tbody tr th {\n",
       "        vertical-align: top;\n",
       "    }\n",
       "\n",
       "    .dataframe thead th {\n",
       "        text-align: right;\n",
       "    }\n",
       "</style>\n",
       "<table border=\"1\" class=\"dataframe\">\n",
       "  <thead>\n",
       "    <tr style=\"text-align: right;\">\n",
       "      <th></th>\n",
       "      <th>created_at</th>\n",
       "      <th>body</th>\n",
       "      <th>senti</th>\n",
       "      <th>length</th>\n",
       "      <th>tokenized body</th>\n",
       "    </tr>\n",
       "  </thead>\n",
       "  <tbody>\n",
       "    <tr>\n",
       "      <th>0</th>\n",
       "      <td>2021-03-04 22:41:36+00:00</td>\n",
       "      <td>aapl people please get serious on your pt s wi...</td>\n",
       "      <td>Bullish</td>\n",
       "      <td>53</td>\n",
       "      <td>[aapl, people, please, get, serious, on, your,...</td>\n",
       "    </tr>\n",
       "    <tr>\n",
       "      <th>1</th>\n",
       "      <td>2021-03-04 22:42:50+00:00</td>\n",
       "      <td>aapl daily divergence on the daily will it rev...</td>\n",
       "      <td>Bullish</td>\n",
       "      <td>18</td>\n",
       "      <td>[aapl, daily, divergence, on, the, daily, will...</td>\n",
       "    </tr>\n",
       "    <tr>\n",
       "      <th>2</th>\n",
       "      <td>2021-03-04 22:43:08+00:00</td>\n",
       "      <td>aapl watch video if you want to know what this...</td>\n",
       "      <td>Bullish</td>\n",
       "      <td>18</td>\n",
       "      <td>[aapl, watch, video, if, you, want, to, know, ...</td>\n",
       "    </tr>\n",
       "    <tr>\n",
       "      <th>5</th>\n",
       "      <td>2021-03-04 22:43:47+00:00</td>\n",
       "      <td>aapl yo man 150 pt</td>\n",
       "      <td>Bullish</td>\n",
       "      <td>5</td>\n",
       "      <td>[aapl, yo, man, 150, pt]</td>\n",
       "    </tr>\n",
       "    <tr>\n",
       "      <th>8</th>\n",
       "      <td>2021-03-04 22:45:05+00:00</td>\n",
       "      <td>aapl i demand free housing in the spaceship to...</td>\n",
       "      <td>Bullish</td>\n",
       "      <td>17</td>\n",
       "      <td>[aapl, i, demand, free, housing, in, the, spac...</td>\n",
       "    </tr>\n",
       "  </tbody>\n",
       "</table>\n",
       "</div>"
      ],
      "text/plain": [
       "                  created_at  \\\n",
       "0  2021-03-04 22:41:36+00:00   \n",
       "1  2021-03-04 22:42:50+00:00   \n",
       "2  2021-03-04 22:43:08+00:00   \n",
       "5  2021-03-04 22:43:47+00:00   \n",
       "8  2021-03-04 22:45:05+00:00   \n",
       "\n",
       "                                                body    senti  length  \\\n",
       "0  aapl people please get serious on your pt s wi...  Bullish      53   \n",
       "1  aapl daily divergence on the daily will it rev...  Bullish      18   \n",
       "2  aapl watch video if you want to know what this...  Bullish      18   \n",
       "5                                 aapl yo man 150 pt  Bullish       5   \n",
       "8  aapl i demand free housing in the spaceship to...  Bullish      17   \n",
       "\n",
       "                                      tokenized body  \n",
       "0  [aapl, people, please, get, serious, on, your,...  \n",
       "1  [aapl, daily, divergence, on, the, daily, will...  \n",
       "2  [aapl, watch, video, if, you, want, to, know, ...  \n",
       "5                           [aapl, yo, man, 150, pt]  \n",
       "8  [aapl, i, demand, free, housing, in, the, spac...  "
      ]
     },
     "execution_count": 417,
     "metadata": {},
     "output_type": "execute_result"
    }
   ],
   "source": [
    "data_1 = cleaned_text(data)\n",
    "data_1.head()"
   ]
  },
  {
   "cell_type": "code",
   "execution_count": 418,
   "metadata": {},
   "outputs": [
    {
     "data": {
      "text/plain": [
       "(array(['Bearish', 'Bullish'], dtype=object), array([3347, 9366], dtype=int64))"
      ]
     },
     "execution_count": 418,
     "metadata": {},
     "output_type": "execute_result"
    }
   ],
   "source": [
    "reviews_tokenized = data_1['body'].apply(nltk.word_tokenize).tolist()\n",
    "X_train, X_test,Y_train, Y_test = train_test_split(reviews_tokenized, data_1['senti'], test_size=0.2, random_state = 45)\n",
    "np.unique(Y_test,return_counts=True)"
   ]
  },
  {
   "cell_type": "code",
   "execution_count": 419,
   "metadata": {},
   "outputs": [],
   "source": [
    "Y_train = np.array(list(map(lambda x: 1 if x==\"Bullish\" else 0, Y_train)))\n",
    "Y_test = np.array(list(map(lambda x: 1 if x==\"Bullish\" else 0, Y_test)))"
   ]
  },
  {
   "cell_type": "code",
   "execution_count": 420,
   "metadata": {},
   "outputs": [],
   "source": [
    "def get_tokenizer(data):\n",
    "    data = np.array(data, dtype=object)\n",
    "    tokenizer = Tokenizer(num_words=20000)\n",
    "    tokenizer.fit_on_texts(data)\n",
    "    return tokenizer"
   ]
  },
  {
   "cell_type": "code",
   "execution_count": 421,
   "metadata": {},
   "outputs": [],
   "source": [
    "tokenizer = get_tokenizer(X_train)"
   ]
  },
  {
   "cell_type": "code",
   "execution_count": 422,
   "metadata": {},
   "outputs": [],
   "source": [
    "words_to_index = tokenizer.word_index\n",
    "maxLen = 80"
   ]
  },
  {
   "cell_type": "code",
   "execution_count": 423,
   "metadata": {},
   "outputs": [],
   "source": [
    "max_features = 20000\n",
    "# cut texts after this number of words (among top max_features most common words)\n",
    "batch_size = 32"
   ]
  },
  {
   "cell_type": "code",
   "execution_count": 424,
   "metadata": {},
   "outputs": [],
   "source": [
    "####LSTM\n",
    "model = keras.Sequential()\n",
    "#Embedding layer turns vectors of integers into dense real vectors of fixed size\n",
    "#model.add(layers.Embedding(embedding_matrix_ft.shape[0], embedding_matrix_ft.shape[1],weights=[embedding_matrix_ft], input_length=maxLen))\n",
    "model.add(layers.Embedding(max_features, 32))\n",
    "model.add(layers.LSTM(128, dropout=0.2, recurrent_dropout=0.2))\n",
    "\n",
    "model.add(layers.Dense(1, activation='sigmoid', kernel_regularizer='l2'))\n",
    "\n",
    "optimizer = optimizers.Adam(learning_rate=0.0001)\n",
    "model.compile(loss='binary_crossentropy',\n",
    "              optimizer=optimizer,\n",
    "              metrics=['accuracy'])"
   ]
  },
  {
   "cell_type": "code",
   "execution_count": 425,
   "metadata": {},
   "outputs": [],
   "source": [
    "def get_data_for_model_prediction (text, tokenizer):\n",
    "    X_test_indices = tokenizer.texts_to_sequences(text)\n",
    "    X_test_indices = pad_sequences(X_test_indices, maxlen=maxLen, padding='post')\n",
    "    return X_test_indices"
   ]
  },
  {
   "cell_type": "code",
   "execution_count": 426,
   "metadata": {},
   "outputs": [],
   "source": [
    "X_train_indices = get_data_for_model_prediction(X_train,tokenizer)\n",
    "X_train_indices.shape\n",
    "X_test_indices = get_data_for_model_prediction(X_test,tokenizer)"
   ]
  },
  {
   "cell_type": "code",
   "execution_count": 427,
   "metadata": {},
   "outputs": [
    {
     "name": "stdout",
     "output_type": "stream",
     "text": [
      "Epoch 1/64\n",
      "159/159 [==============================] - 84s 531ms/step - loss: 0.6156 - accuracy: 0.7418 - val_loss: 0.5959 - val_accuracy: 0.7357\n",
      "Epoch 2/64\n",
      "159/159 [==============================] - 87s 546ms/step - loss: 0.5877 - accuracy: 0.7420 - val_loss: 0.5917 - val_accuracy: 0.7357\n",
      "Epoch 3/64\n",
      "159/159 [==============================] - 86s 541ms/step - loss: 0.5835 - accuracy: 0.7420 - val_loss: 0.5874 - val_accuracy: 0.7357\n",
      "Epoch 4/64\n",
      "159/159 [==============================] - 91s 570ms/step - loss: 0.5770 - accuracy: 0.7427 - val_loss: 0.5544 - val_accuracy: 0.7384\n",
      "Epoch 5/64\n",
      "159/159 [==============================] - 87s 550ms/step - loss: 0.4549 - accuracy: 0.8002 - val_loss: 0.4179 - val_accuracy: 0.8237\n",
      "Epoch 6/64\n",
      "159/159 [==============================] - 85s 536ms/step - loss: 0.3782 - accuracy: 0.8426 - val_loss: 0.3861 - val_accuracy: 0.8359\n",
      "Epoch 7/64\n",
      "159/159 [==============================] - 90s 567ms/step - loss: 0.3497 - accuracy: 0.8568 - val_loss: 0.3857 - val_accuracy: 0.8407\n",
      "Epoch 8/64\n",
      "159/159 [==============================] - 86s 540ms/step - loss: 0.3318 - accuracy: 0.8648 - val_loss: 0.3788 - val_accuracy: 0.8421\n",
      "Epoch 9/64\n",
      "159/159 [==============================] - 86s 539ms/step - loss: 0.3172 - accuracy: 0.8716 - val_loss: 0.3731 - val_accuracy: 0.8453\n",
      "Epoch 10/64\n",
      "159/159 [==============================] - 87s 549ms/step - loss: 0.3069 - accuracy: 0.8772 - val_loss: 0.3742 - val_accuracy: 0.8442\n",
      "Epoch 11/64\n",
      "159/159 [==============================] - 88s 554ms/step - loss: 0.2976 - accuracy: 0.8813 - val_loss: 0.3847 - val_accuracy: 0.8450\n"
     ]
    },
    {
     "data": {
      "text/plain": [
       "<tensorflow.python.keras.callbacks.History at 0x2666529c370>"
      ]
     },
     "execution_count": 427,
     "metadata": {},
     "output_type": "execute_result"
    }
   ],
   "source": [
    "EPOCHS = 64\n",
    "BATCH = 256\n",
    "\n",
    "early_stop = keras.callbacks.EarlyStopping(monitor='val_loss', patience=2)\n",
    "\n",
    "model.fit(X_train_indices, Y_train,\n",
    "          batch_size=BATCH,\n",
    "          epochs=EPOCHS,\n",
    "          validation_split=0.2,\n",
    "          verbose = 1,\n",
    "          callbacks = [early_stop])"
   ]
  },
  {
   "cell_type": "markdown",
   "metadata": {},
   "source": [
    "# Results on test data"
   ]
  },
  {
   "cell_type": "code",
   "execution_count": 432,
   "metadata": {},
   "outputs": [
    {
     "name": "stdout",
     "output_type": "stream",
     "text": [
      "Testing set accuracy: 84.76%\n"
     ]
    }
   ],
   "source": [
    "_, acc = model.evaluate(X_test_indices, Y_test, batch_size=64, verbose = 0)\n",
    "print(\"Testing set accuracy: {:.2f}%\".format(acc*100))"
   ]
  },
  {
   "cell_type": "markdown",
   "metadata": {},
   "source": [
    "# # Sentiment Prediction"
   ]
  },
  {
   "cell_type": "code",
   "execution_count": 433,
   "metadata": {},
   "outputs": [],
   "source": [
    "df = pd.read_csv(r'C:\\Users\\tiwar\\Downloads\\StockteTwits_AAPl_1.csv')"
   ]
  },
  {
   "cell_type": "code",
   "execution_count": 430,
   "metadata": {},
   "outputs": [],
   "source": [
    "df.drop(['Unnamed: 0','id'],axis=1,inplace=True)"
   ]
  },
  {
   "cell_type": "code",
   "execution_count": 431,
   "metadata": {},
   "outputs": [
    {
     "name": "stderr",
     "output_type": "stream",
     "text": [
      "<ipython-input-416-27ad528c28bc>:35: SettingWithCopyWarning: \n",
      "A value is trying to be set on a copy of a slice from a DataFrame.\n",
      "Try using .loc[row_indexer,col_indexer] = value instead\n",
      "\n",
      "See the caveats in the documentation: https://pandas.pydata.org/pandas-docs/stable/user_guide/indexing.html#returning-a-view-versus-a-copy\n",
      "  data['body'] = data['body'].apply(lambda x:x.replace('AAPL',''))\n"
     ]
    }
   ],
   "source": [
    "df_new = cleaned_text(df)"
   ]
  },
  {
   "cell_type": "code",
   "execution_count": 434,
   "metadata": {},
   "outputs": [],
   "source": [
    "cleaned_data = df_new['body']\n",
    "data_for_prediction = get_data_for_model_prediction(cleaned_data, tokenizer)\n",
    "prediction = model.predict(data_for_prediction, batch_size=64)\n",
    "df_new['score'] = prediction\n",
    "#df['senti'] = df['senti'].str.replace('Bearish','negative')\n",
    "#df['senti'] = df['senti'].str.replace('Bullish','positive')"
   ]
  },
  {
   "cell_type": "code",
   "execution_count": 436,
   "metadata": {},
   "outputs": [],
   "source": [
    "df_test = df_new[df_new['senti']!=\" \"]"
   ]
  },
  {
   "cell_type": "markdown",
   "metadata": {},
   "source": [
    "## Testing on 1 year data"
   ]
  },
  {
   "cell_type": "code",
   "execution_count": 437,
   "metadata": {},
   "outputs": [
    {
     "name": "stderr",
     "output_type": "stream",
     "text": [
      "<ipython-input-437-048f58f155c8>:1: SettingWithCopyWarning: \n",
      "A value is trying to be set on a copy of a slice from a DataFrame.\n",
      "Try using .loc[row_indexer,col_indexer] = value instead\n",
      "\n",
      "See the caveats in the documentation: https://pandas.pydata.org/pandas-docs/stable/user_guide/indexing.html#returning-a-view-versus-a-copy\n",
      "  df_test['label'] = np.array(list(map(lambda x : 'Bullish' if x > 0.50 else 'Bearish',df_test['score'])))\n"
     ]
    },
    {
     "data": {
      "text/plain": [
       "0.8405037637521714"
      ]
     },
     "execution_count": 437,
     "metadata": {},
     "output_type": "execute_result"
    }
   ],
   "source": [
    "df_test['label'] = np.array(list(map(lambda x : 'Bullish' if x > 0.50 else 'Bearish',df_test['score'])))\n",
    "df_test['label'].head()\n",
    "df_test['senti'].head()\n",
    "import sklearn\n",
    "sklearn.metrics.accuracy_score(df_test['senti'], df_test['label'])"
   ]
  },
  {
   "cell_type": "code",
   "execution_count": 438,
   "metadata": {},
   "outputs": [],
   "source": [
    "df_new['senti_true'] = df_new['senti']\n",
    "df_new['senti'] = np.array(list(map(lambda x : 'positive' if x > 0.50 else 'negative',df_new['score'])))"
   ]
  },
  {
   "cell_type": "markdown",
   "metadata": {},
   "source": [
    "# #Aggregating data on daliy level"
   ]
  },
  {
   "cell_type": "code",
   "execution_count": 440,
   "metadata": {},
   "outputs": [
    {
     "name": "stderr",
     "output_type": "stream",
     "text": [
      "<ipython-input-440-688c1ba50b28>:28: SettingWithCopyWarning: \n",
      "A value is trying to be set on a copy of a slice from a DataFrame\n",
      "\n",
      "See the caveats in the documentation: https://pandas.pydata.org/pandas-docs/stable/user_guide/indexing.html#returning-a-view-versus-a-copy\n",
      "  df_final['body'][i] = df_test_2['body'][i] + df_test['body'][i]\n"
     ]
    }
   ],
   "source": [
    "import datetime\n",
    "df_new['created_at'] = df_new['created_at'].apply(lambda x:datetime.datetime.strptime(x, '%Y-%m-%d %H:%M:%S+00:00'))\n",
    "df_new['Hour'] = df_new['created_at'].apply(lambda x:x.hour)\n",
    "df_new['Month'] = df_new['created_at'].apply(lambda x:x.month)\n",
    "df_new['Year'] = df_new['created_at'].apply(lambda x:x.year)\n",
    "df_new['weekday'] = df_new['created_at'].apply(lambda x: x.weekday())\n",
    "df_new['day'] = df_new['created_at'].apply(lambda x: x.day)\n",
    "df_new['Date'] = pd.to_datetime(df['created_at']).dt.date\n",
    "\n",
    "\n",
    "df_current = df_new[ (df_new['Hour'] < 16)]\n",
    "df_current_2 = df_new[(df_new['Hour'] > 16)]\n",
    "\n",
    "df_pos_1 = df_current[(df_current['senti']=='positive')]\n",
    "df_pos_1 = df_pos_1.groupby(['Year','Month','day','weekday','Date'])['body'].count().reset_index()\n",
    "df_pos_2 = df_current_2[(df_current_2['senti']=='positive')]\n",
    "df_pos_2 = df_pos_2.groupby(['Year','Month','day','weekday','Date'])['body'].count().reset_index()\n",
    "\n",
    "df_test = df_current.groupby(['Year','Month','day','weekday','Date'])['body'].count().reset_index()\n",
    "df_final = df_test.copy(deep=True)\n",
    "df_test_2 = df_current_2.groupby(['Year','Month','day','weekday','Date'])['body'].count().reset_index()\n",
    "df_sum = df_current.groupby(['Year','Month','day','weekday','Date'])['score'].sum().reset_index()\n",
    "df_sum_2 = df_current_2.groupby(['Year','Month','day','weekday','Date'])['score'].sum().reset_index()\n",
    "total_sum =[]\n",
    "count =0\n",
    "pos_count =[]\n",
    "for i in range(len(df_test)):\n",
    "    df_final['body'][i] = df_test_2['body'][i] + df_test['body'][i]\n",
    "    total_sum.append(df_sum_2['score'][i] + df_sum['score'][i])\n",
    "    pos_count.append(df_pos_2['body'][i] + df_pos_1['body'][i])\n",
    "\n",
    "df_final['total_score'] = total_sum\n",
    "df_final['average_score'] = df_final['total_score']/df_final['body']\n",
    "df_final['pos_count'] = pos_count"
   ]
  },
  {
   "cell_type": "code",
   "execution_count": 441,
   "metadata": {},
   "outputs": [
    {
     "data": {
      "text/html": [
       "<div>\n",
       "<style scoped>\n",
       "    .dataframe tbody tr th:only-of-type {\n",
       "        vertical-align: middle;\n",
       "    }\n",
       "\n",
       "    .dataframe tbody tr th {\n",
       "        vertical-align: top;\n",
       "    }\n",
       "\n",
       "    .dataframe thead th {\n",
       "        text-align: right;\n",
       "    }\n",
       "</style>\n",
       "<table border=\"1\" class=\"dataframe\">\n",
       "  <thead>\n",
       "    <tr style=\"text-align: right;\">\n",
       "      <th></th>\n",
       "      <th>Year</th>\n",
       "      <th>Month</th>\n",
       "      <th>day</th>\n",
       "      <th>weekday</th>\n",
       "      <th>Date</th>\n",
       "      <th>body</th>\n",
       "      <th>total_score</th>\n",
       "      <th>average_score</th>\n",
       "      <th>pos_count</th>\n",
       "      <th>pos_prop</th>\n",
       "    </tr>\n",
       "  </thead>\n",
       "  <tbody>\n",
       "    <tr>\n",
       "      <th>0</th>\n",
       "      <td>2020</td>\n",
       "      <td>6</td>\n",
       "      <td>17</td>\n",
       "      <td>2</td>\n",
       "      <td>2020-06-17</td>\n",
       "      <td>619</td>\n",
       "      <td>486.633606</td>\n",
       "      <td>0.786161</td>\n",
       "      <td>519</td>\n",
       "      <td>0.838449</td>\n",
       "    </tr>\n",
       "    <tr>\n",
       "      <th>1</th>\n",
       "      <td>2020</td>\n",
       "      <td>6</td>\n",
       "      <td>18</td>\n",
       "      <td>3</td>\n",
       "      <td>2020-06-18</td>\n",
       "      <td>765</td>\n",
       "      <td>569.742188</td>\n",
       "      <td>0.744761</td>\n",
       "      <td>614</td>\n",
       "      <td>0.802614</td>\n",
       "    </tr>\n",
       "    <tr>\n",
       "      <th>2</th>\n",
       "      <td>2020</td>\n",
       "      <td>6</td>\n",
       "      <td>19</td>\n",
       "      <td>4</td>\n",
       "      <td>2020-06-19</td>\n",
       "      <td>600</td>\n",
       "      <td>444.131714</td>\n",
       "      <td>0.740220</td>\n",
       "      <td>470</td>\n",
       "      <td>0.783333</td>\n",
       "    </tr>\n",
       "    <tr>\n",
       "      <th>3</th>\n",
       "      <td>2020</td>\n",
       "      <td>6</td>\n",
       "      <td>20</td>\n",
       "      <td>5</td>\n",
       "      <td>2020-06-20</td>\n",
       "      <td>722</td>\n",
       "      <td>540.997009</td>\n",
       "      <td>0.749303</td>\n",
       "      <td>564</td>\n",
       "      <td>0.781163</td>\n",
       "    </tr>\n",
       "    <tr>\n",
       "      <th>4</th>\n",
       "      <td>2020</td>\n",
       "      <td>6</td>\n",
       "      <td>21</td>\n",
       "      <td>6</td>\n",
       "      <td>2020-06-21</td>\n",
       "      <td>251</td>\n",
       "      <td>187.757950</td>\n",
       "      <td>0.748040</td>\n",
       "      <td>194</td>\n",
       "      <td>0.772908</td>\n",
       "    </tr>\n",
       "  </tbody>\n",
       "</table>\n",
       "</div>"
      ],
      "text/plain": [
       "   Year  Month  day  weekday        Date  body  total_score  average_score  \\\n",
       "0  2020      6   17        2  2020-06-17   619   486.633606       0.786161   \n",
       "1  2020      6   18        3  2020-06-18   765   569.742188       0.744761   \n",
       "2  2020      6   19        4  2020-06-19   600   444.131714       0.740220   \n",
       "3  2020      6   20        5  2020-06-20   722   540.997009       0.749303   \n",
       "4  2020      6   21        6  2020-06-21   251   187.757950       0.748040   \n",
       "\n",
       "   pos_count  pos_prop  \n",
       "0        519  0.838449  \n",
       "1        614  0.802614  \n",
       "2        470  0.783333  \n",
       "3        564  0.781163  \n",
       "4        194  0.772908  "
      ]
     },
     "execution_count": 441,
     "metadata": {},
     "output_type": "execute_result"
    }
   ],
   "source": [
    "df_final['pos_prop'] = df_final['pos_count']/df_final['body']\n",
    "df_final.head()"
   ]
  },
  {
   "cell_type": "markdown",
   "metadata": {},
   "source": [
    "# Importing Stocks data"
   ]
  },
  {
   "cell_type": "code",
   "execution_count": 442,
   "metadata": {},
   "outputs": [],
   "source": [
    "stocks_info = pd.read_csv(r'C:\\Users\\tiwar\\Downloads\\tickerdf.csv')"
   ]
  },
  {
   "cell_type": "code",
   "execution_count": 443,
   "metadata": {},
   "outputs": [],
   "source": [
    "stocks_info['Date'] = pd.to_datetime(stocks_info['Date'], infer_datetime_format=False).dt.date"
   ]
  },
  {
   "cell_type": "code",
   "execution_count": 444,
   "metadata": {},
   "outputs": [
    {
     "data": {
      "text/plain": [
       "datetime.date"
      ]
     },
     "execution_count": 444,
     "metadata": {},
     "output_type": "execute_result"
    }
   ],
   "source": [
    "type(stocks_info['Date'][0])"
   ]
  },
  {
   "cell_type": "code",
   "execution_count": 445,
   "metadata": {},
   "outputs": [
    {
     "data": {
      "text/plain": [
       "311"
      ]
     },
     "execution_count": 445,
     "metadata": {},
     "output_type": "execute_result"
    }
   ],
   "source": [
    "len(df_final)"
   ]
  },
  {
   "cell_type": "markdown",
   "metadata": {},
   "source": [
    "# Merging stocks and sentiment data for final analysis and prediction"
   ]
  },
  {
   "cell_type": "code",
   "execution_count": 446,
   "metadata": {},
   "outputs": [],
   "source": [
    "df_final = df_final.merge(stocks_info,how = 'outer',left_on='Date', right_on='Date')"
   ]
  },
  {
   "cell_type": "code",
   "execution_count": 447,
   "metadata": {},
   "outputs": [
    {
     "data": {
      "text/html": [
       "<div>\n",
       "<style scoped>\n",
       "    .dataframe tbody tr th:only-of-type {\n",
       "        vertical-align: middle;\n",
       "    }\n",
       "\n",
       "    .dataframe tbody tr th {\n",
       "        vertical-align: top;\n",
       "    }\n",
       "\n",
       "    .dataframe thead th {\n",
       "        text-align: right;\n",
       "    }\n",
       "</style>\n",
       "<table border=\"1\" class=\"dataframe\">\n",
       "  <thead>\n",
       "    <tr style=\"text-align: right;\">\n",
       "      <th></th>\n",
       "      <th>Year</th>\n",
       "      <th>Month</th>\n",
       "      <th>day</th>\n",
       "      <th>weekday</th>\n",
       "      <th>Date</th>\n",
       "      <th>body</th>\n",
       "      <th>total_score</th>\n",
       "      <th>average_score</th>\n",
       "      <th>pos_count</th>\n",
       "      <th>pos_prop</th>\n",
       "      <th>Open</th>\n",
       "      <th>High</th>\n",
       "      <th>Low</th>\n",
       "      <th>Close</th>\n",
       "      <th>Volume</th>\n",
       "      <th>Dividends</th>\n",
       "      <th>Stock Splits</th>\n",
       "    </tr>\n",
       "  </thead>\n",
       "  <tbody>\n",
       "    <tr>\n",
       "      <th>0</th>\n",
       "      <td>2020</td>\n",
       "      <td>6</td>\n",
       "      <td>17</td>\n",
       "      <td>2</td>\n",
       "      <td>2020-06-17</td>\n",
       "      <td>619</td>\n",
       "      <td>486.633606</td>\n",
       "      <td>0.786161</td>\n",
       "      <td>519</td>\n",
       "      <td>0.838449</td>\n",
       "      <td>88.193247</td>\n",
       "      <td>88.255328</td>\n",
       "      <td>87.185041</td>\n",
       "      <td>87.309204</td>\n",
       "      <td>114406400.0</td>\n",
       "      <td>0.0</td>\n",
       "      <td>0.0</td>\n",
       "    </tr>\n",
       "    <tr>\n",
       "      <th>1</th>\n",
       "      <td>2020</td>\n",
       "      <td>6</td>\n",
       "      <td>18</td>\n",
       "      <td>3</td>\n",
       "      <td>2020-06-18</td>\n",
       "      <td>765</td>\n",
       "      <td>569.742188</td>\n",
       "      <td>0.744761</td>\n",
       "      <td>614</td>\n",
       "      <td>0.802614</td>\n",
       "      <td>87.264512</td>\n",
       "      <td>87.771101</td>\n",
       "      <td>86.720676</td>\n",
       "      <td>87.343979</td>\n",
       "      <td>96820400.0</td>\n",
       "      <td>0.0</td>\n",
       "      <td>0.0</td>\n",
       "    </tr>\n",
       "    <tr>\n",
       "      <th>2</th>\n",
       "      <td>2020</td>\n",
       "      <td>6</td>\n",
       "      <td>19</td>\n",
       "      <td>4</td>\n",
       "      <td>2020-06-19</td>\n",
       "      <td>600</td>\n",
       "      <td>444.131714</td>\n",
       "      <td>0.740220</td>\n",
       "      <td>470</td>\n",
       "      <td>0.783333</td>\n",
       "      <td>88.066604</td>\n",
       "      <td>88.543387</td>\n",
       "      <td>85.709978</td>\n",
       "      <td>86.844833</td>\n",
       "      <td>264476000.0</td>\n",
       "      <td>0.0</td>\n",
       "      <td>0.0</td>\n",
       "    </tr>\n",
       "    <tr>\n",
       "      <th>3</th>\n",
       "      <td>2020</td>\n",
       "      <td>6</td>\n",
       "      <td>20</td>\n",
       "      <td>5</td>\n",
       "      <td>2020-06-20</td>\n",
       "      <td>722</td>\n",
       "      <td>540.997009</td>\n",
       "      <td>0.749303</td>\n",
       "      <td>564</td>\n",
       "      <td>0.781163</td>\n",
       "      <td>NaN</td>\n",
       "      <td>NaN</td>\n",
       "      <td>NaN</td>\n",
       "      <td>NaN</td>\n",
       "      <td>NaN</td>\n",
       "      <td>NaN</td>\n",
       "      <td>NaN</td>\n",
       "    </tr>\n",
       "    <tr>\n",
       "      <th>4</th>\n",
       "      <td>2020</td>\n",
       "      <td>6</td>\n",
       "      <td>21</td>\n",
       "      <td>6</td>\n",
       "      <td>2020-06-21</td>\n",
       "      <td>251</td>\n",
       "      <td>187.757950</td>\n",
       "      <td>0.748040</td>\n",
       "      <td>194</td>\n",
       "      <td>0.772908</td>\n",
       "      <td>NaN</td>\n",
       "      <td>NaN</td>\n",
       "      <td>NaN</td>\n",
       "      <td>NaN</td>\n",
       "      <td>NaN</td>\n",
       "      <td>NaN</td>\n",
       "      <td>NaN</td>\n",
       "    </tr>\n",
       "  </tbody>\n",
       "</table>\n",
       "</div>"
      ],
      "text/plain": [
       "   Year  Month  day  weekday        Date  body  total_score  average_score  \\\n",
       "0  2020      6   17        2  2020-06-17   619   486.633606       0.786161   \n",
       "1  2020      6   18        3  2020-06-18   765   569.742188       0.744761   \n",
       "2  2020      6   19        4  2020-06-19   600   444.131714       0.740220   \n",
       "3  2020      6   20        5  2020-06-20   722   540.997009       0.749303   \n",
       "4  2020      6   21        6  2020-06-21   251   187.757950       0.748040   \n",
       "\n",
       "   pos_count  pos_prop       Open       High        Low      Close  \\\n",
       "0        519  0.838449  88.193247  88.255328  87.185041  87.309204   \n",
       "1        614  0.802614  87.264512  87.771101  86.720676  87.343979   \n",
       "2        470  0.783333  88.066604  88.543387  85.709978  86.844833   \n",
       "3        564  0.781163        NaN        NaN        NaN        NaN   \n",
       "4        194  0.772908        NaN        NaN        NaN        NaN   \n",
       "\n",
       "        Volume  Dividends  Stock Splits  \n",
       "0  114406400.0        0.0           0.0  \n",
       "1   96820400.0        0.0           0.0  \n",
       "2  264476000.0        0.0           0.0  \n",
       "3          NaN        NaN           NaN  \n",
       "4          NaN        NaN           NaN  "
      ]
     },
     "execution_count": 447,
     "metadata": {},
     "output_type": "execute_result"
    }
   ],
   "source": [
    "df_final.head()"
   ]
  },
  {
   "cell_type": "code",
   "execution_count": 448,
   "metadata": {},
   "outputs": [
    {
     "data": {
      "text/plain": [
       "311"
      ]
     },
     "execution_count": 448,
     "metadata": {},
     "output_type": "execute_result"
    }
   ],
   "source": [
    "len(df_final)"
   ]
  },
  {
   "cell_type": "markdown",
   "metadata": {},
   "source": [
    "# Price Prediction"
   ]
  },
  {
   "cell_type": "code",
   "execution_count": 885,
   "metadata": {},
   "outputs": [],
   "source": [
    "from sklearn import metrics\n",
    "from sklearn.metrics import make_scorer, mean_squared_error\n",
    "from sklearn.model_selection import GridSearchCV, RandomizedSearchCV\n",
    "from statsmodels.tsa.seasonal import seasonal_decompose"
   ]
  },
  {
   "cell_type": "code",
   "execution_count": 886,
   "metadata": {},
   "outputs": [
    {
     "data": {
      "text/html": [
       "<div>\n",
       "<style scoped>\n",
       "    .dataframe tbody tr th:only-of-type {\n",
       "        vertical-align: middle;\n",
       "    }\n",
       "\n",
       "    .dataframe tbody tr th {\n",
       "        vertical-align: top;\n",
       "    }\n",
       "\n",
       "    .dataframe thead th {\n",
       "        text-align: right;\n",
       "    }\n",
       "</style>\n",
       "<table border=\"1\" class=\"dataframe\">\n",
       "  <thead>\n",
       "    <tr style=\"text-align: right;\">\n",
       "      <th></th>\n",
       "      <th>Year</th>\n",
       "      <th>∆t</th>\n",
       "      <th>Month</th>\n",
       "      <th>day</th>\n",
       "      <th>weekday</th>\n",
       "      <th>Date</th>\n",
       "      <th>body</th>\n",
       "      <th>total_score</th>\n",
       "      <th>average_score</th>\n",
       "      <th>pos_count</th>\n",
       "      <th>pos_prop</th>\n",
       "      <th>Open</th>\n",
       "      <th>High</th>\n",
       "      <th>Low</th>\n",
       "      <th>Close</th>\n",
       "      <th>Volume</th>\n",
       "      <th>Dividends</th>\n",
       "      <th>Stock Splits</th>\n",
       "      <th>trend</th>\n",
       "      <th>seasonal</th>\n",
       "    </tr>\n",
       "  </thead>\n",
       "  <tbody>\n",
       "    <tr>\n",
       "      <th>0</th>\n",
       "      <td>2020</td>\n",
       "      <td>0</td>\n",
       "      <td>6</td>\n",
       "      <td>17</td>\n",
       "      <td>2</td>\n",
       "      <td>2020-06-17</td>\n",
       "      <td>619</td>\n",
       "      <td>486.633606</td>\n",
       "      <td>0.786161</td>\n",
       "      <td>519</td>\n",
       "      <td>0.838449</td>\n",
       "      <td>88.193247</td>\n",
       "      <td>88.255328</td>\n",
       "      <td>87.185041</td>\n",
       "      <td>87.309204</td>\n",
       "      <td>1.144064e+08</td>\n",
       "      <td>0.0</td>\n",
       "      <td>0.0</td>\n",
       "      <td>87.776451</td>\n",
       "      <td>0.068787</td>\n",
       "    </tr>\n",
       "    <tr>\n",
       "      <th>1</th>\n",
       "      <td>2020</td>\n",
       "      <td>1 days 00:00:00</td>\n",
       "      <td>6</td>\n",
       "      <td>18</td>\n",
       "      <td>3</td>\n",
       "      <td>2020-06-18</td>\n",
       "      <td>765</td>\n",
       "      <td>569.742188</td>\n",
       "      <td>0.744761</td>\n",
       "      <td>614</td>\n",
       "      <td>0.802614</td>\n",
       "      <td>87.264512</td>\n",
       "      <td>87.771101</td>\n",
       "      <td>86.720676</td>\n",
       "      <td>87.343979</td>\n",
       "      <td>9.682040e+07</td>\n",
       "      <td>0.0</td>\n",
       "      <td>0.0</td>\n",
       "      <td>87.980214</td>\n",
       "      <td>-0.091560</td>\n",
       "    </tr>\n",
       "    <tr>\n",
       "      <th>2</th>\n",
       "      <td>2020</td>\n",
       "      <td>1 days 00:00:00</td>\n",
       "      <td>6</td>\n",
       "      <td>19</td>\n",
       "      <td>4</td>\n",
       "      <td>2020-06-19</td>\n",
       "      <td>600</td>\n",
       "      <td>444.131714</td>\n",
       "      <td>0.740220</td>\n",
       "      <td>470</td>\n",
       "      <td>0.783333</td>\n",
       "      <td>88.066604</td>\n",
       "      <td>88.543387</td>\n",
       "      <td>85.709978</td>\n",
       "      <td>86.844833</td>\n",
       "      <td>2.644760e+08</td>\n",
       "      <td>0.0</td>\n",
       "      <td>0.0</td>\n",
       "      <td>88.183976</td>\n",
       "      <td>-0.362318</td>\n",
       "    </tr>\n",
       "    <tr>\n",
       "      <th>3</th>\n",
       "      <td>2020</td>\n",
       "      <td>1 days 00:00:00</td>\n",
       "      <td>6</td>\n",
       "      <td>20</td>\n",
       "      <td>5</td>\n",
       "      <td>2020-06-20</td>\n",
       "      <td>722</td>\n",
       "      <td>540.997009</td>\n",
       "      <td>0.749303</td>\n",
       "      <td>564</td>\n",
       "      <td>0.781163</td>\n",
       "      <td>87.793445</td>\n",
       "      <td>88.783438</td>\n",
       "      <td>86.206634</td>\n",
       "      <td>87.602231</td>\n",
       "      <td>2.214657e+08</td>\n",
       "      <td>0.0</td>\n",
       "      <td>0.0</td>\n",
       "      <td>88.228015</td>\n",
       "      <td>-0.147401</td>\n",
       "    </tr>\n",
       "    <tr>\n",
       "      <th>4</th>\n",
       "      <td>2020</td>\n",
       "      <td>1 days 00:00:00</td>\n",
       "      <td>6</td>\n",
       "      <td>21</td>\n",
       "      <td>6</td>\n",
       "      <td>2020-06-21</td>\n",
       "      <td>251</td>\n",
       "      <td>187.757950</td>\n",
       "      <td>0.748040</td>\n",
       "      <td>194</td>\n",
       "      <td>0.772908</td>\n",
       "      <td>87.520286</td>\n",
       "      <td>89.023489</td>\n",
       "      <td>86.703289</td>\n",
       "      <td>88.359629</td>\n",
       "      <td>1.784555e+08</td>\n",
       "      <td>0.0</td>\n",
       "      <td>0.0</td>\n",
       "      <td>88.528491</td>\n",
       "      <td>-0.002659</td>\n",
       "    </tr>\n",
       "  </tbody>\n",
       "</table>\n",
       "</div>"
      ],
      "text/plain": [
       "   Year               ∆t  Month  day  weekday       Date  body  total_score  \\\n",
       "0  2020                0      6   17        2 2020-06-17   619   486.633606   \n",
       "1  2020  1 days 00:00:00      6   18        3 2020-06-18   765   569.742188   \n",
       "2  2020  1 days 00:00:00      6   19        4 2020-06-19   600   444.131714   \n",
       "3  2020  1 days 00:00:00      6   20        5 2020-06-20   722   540.997009   \n",
       "4  2020  1 days 00:00:00      6   21        6 2020-06-21   251   187.757950   \n",
       "\n",
       "   average_score  pos_count  pos_prop       Open       High        Low  \\\n",
       "0       0.786161        519  0.838449  88.193247  88.255328  87.185041   \n",
       "1       0.744761        614  0.802614  87.264512  87.771101  86.720676   \n",
       "2       0.740220        470  0.783333  88.066604  88.543387  85.709978   \n",
       "3       0.749303        564  0.781163  87.793445  88.783438  86.206634   \n",
       "4       0.748040        194  0.772908  87.520286  89.023489  86.703289   \n",
       "\n",
       "       Close        Volume  Dividends  Stock Splits      trend  seasonal  \n",
       "0  87.309204  1.144064e+08        0.0           0.0  87.776451  0.068787  \n",
       "1  87.343979  9.682040e+07        0.0           0.0  87.980214 -0.091560  \n",
       "2  86.844833  2.644760e+08        0.0           0.0  88.183976 -0.362318  \n",
       "3  87.602231  2.214657e+08        0.0           0.0  88.228015 -0.147401  \n",
       "4  88.359629  1.784555e+08        0.0           0.0  88.528491 -0.002659  "
      ]
     },
     "execution_count": 886,
     "metadata": {},
     "output_type": "execute_result"
    }
   ],
   "source": [
    "i=304\n",
    "full_df = df_final.copy(deep=True)\n",
    "full_df['Date'] = pd.to_datetime(full_df.Date)\n",
    "full_df = full_df.interpolate(method='linear')\n",
    "result = seasonal_decompose(full_df[['Close']], model='additive', period=7, extrapolate_trend='freq')\n",
    "full_df['trend'] = result.trend\n",
    "full_df['seasonal'] = result.seasonal\n",
    "deltaT = np.array([(full_df.Date[i + 1] - full_df.Date[i]) for i in range(len(full_df)-1)])\n",
    "deltaT = np.concatenate((np.array([0]), deltaT))\n",
    "full_df.insert(1, '∆t', deltaT)\n",
    "full_df.head()"
   ]
  },
  {
   "cell_type": "markdown",
   "metadata": {},
   "source": [
    "# Correlation of Closing price with total_score and pos_prop"
   ]
  },
  {
   "cell_type": "code",
   "execution_count": 451,
   "metadata": {},
   "outputs": [
    {
     "data": {
      "text/plain": [
       "array([[1.        , 0.37375825],\n",
       "       [0.37375825, 1.        ]])"
      ]
     },
     "execution_count": 451,
     "metadata": {},
     "output_type": "execute_result"
    }
   ],
   "source": [
    "np.corrcoef(full_df['Close'],full_df['total_score'])"
   ]
  },
  {
   "cell_type": "code",
   "execution_count": 452,
   "metadata": {},
   "outputs": [
    {
     "data": {
      "text/plain": [
       "array([[1.        , 0.38442789],\n",
       "       [0.38442789, 1.        ]])"
      ]
     },
     "execution_count": 452,
     "metadata": {},
     "output_type": "execute_result"
    }
   ],
   "source": [
    "np.corrcoef(full_df['Close'],full_df['pos_prop'])"
   ]
  },
  {
   "cell_type": "code",
   "execution_count": 887,
   "metadata": {},
   "outputs": [
    {
     "data": {
      "text/plain": [
       "array([[1.       , 0.4560541],\n",
       "       [0.4560541, 1.       ]])"
      ]
     },
     "execution_count": 887,
     "metadata": {},
     "output_type": "execute_result"
    }
   ],
   "source": [
    "np.corrcoef(full_df['Close'],full_df['average_score'])"
   ]
  },
  {
   "cell_type": "code",
   "execution_count": 454,
   "metadata": {},
   "outputs": [
    {
     "data": {
      "text/plain": [
       "array([[1.        , 0.33139081],\n",
       "       [0.33139081, 1.        ]])"
      ]
     },
     "execution_count": 454,
     "metadata": {},
     "output_type": "execute_result"
    }
   ],
   "source": [
    "np.corrcoef(full_df['Close'],full_df['body'])"
   ]
  },
  {
   "cell_type": "markdown",
   "metadata": {},
   "source": [
    "### We could observe some correlation between closing price of stock and average sentiment score for that day"
   ]
  },
  {
   "cell_type": "markdown",
   "metadata": {},
   "source": [
    "# Multivariate Time series (Forecasting stock price using past prices and sentiment)"
   ]
  },
  {
   "cell_type": "code",
   "execution_count": 1263,
   "metadata": {},
   "outputs": [
    {
     "data": {
      "text/html": [
       "<div>\n",
       "<style scoped>\n",
       "    .dataframe tbody tr th:only-of-type {\n",
       "        vertical-align: middle;\n",
       "    }\n",
       "\n",
       "    .dataframe tbody tr th {\n",
       "        vertical-align: top;\n",
       "    }\n",
       "\n",
       "    .dataframe thead th {\n",
       "        text-align: right;\n",
       "    }\n",
       "</style>\n",
       "<table border=\"1\" class=\"dataframe\">\n",
       "  <thead>\n",
       "    <tr style=\"text-align: right;\">\n",
       "      <th></th>\n",
       "      <th>Year</th>\n",
       "      <th>∆t</th>\n",
       "      <th>Month</th>\n",
       "      <th>day</th>\n",
       "      <th>weekday</th>\n",
       "      <th>Date</th>\n",
       "      <th>body</th>\n",
       "      <th>total_score</th>\n",
       "      <th>average_score</th>\n",
       "      <th>pos_count</th>\n",
       "      <th>pos_prop</th>\n",
       "      <th>Open</th>\n",
       "      <th>High</th>\n",
       "      <th>Low</th>\n",
       "      <th>Close</th>\n",
       "      <th>Volume</th>\n",
       "      <th>Dividends</th>\n",
       "      <th>Stock Splits</th>\n",
       "      <th>trend</th>\n",
       "      <th>seasonal</th>\n",
       "    </tr>\n",
       "  </thead>\n",
       "  <tbody>\n",
       "    <tr>\n",
       "      <th>0</th>\n",
       "      <td>2020</td>\n",
       "      <td>0</td>\n",
       "      <td>6</td>\n",
       "      <td>17</td>\n",
       "      <td>2</td>\n",
       "      <td>2020-06-17</td>\n",
       "      <td>619</td>\n",
       "      <td>486.633606</td>\n",
       "      <td>0.786161</td>\n",
       "      <td>519</td>\n",
       "      <td>0.838449</td>\n",
       "      <td>88.193247</td>\n",
       "      <td>88.255328</td>\n",
       "      <td>87.185041</td>\n",
       "      <td>87.309204</td>\n",
       "      <td>1.144064e+08</td>\n",
       "      <td>0.0</td>\n",
       "      <td>0.0</td>\n",
       "      <td>87.776451</td>\n",
       "      <td>0.068787</td>\n",
       "    </tr>\n",
       "    <tr>\n",
       "      <th>1</th>\n",
       "      <td>2020</td>\n",
       "      <td>1 days 00:00:00</td>\n",
       "      <td>6</td>\n",
       "      <td>18</td>\n",
       "      <td>3</td>\n",
       "      <td>2020-06-18</td>\n",
       "      <td>765</td>\n",
       "      <td>569.742188</td>\n",
       "      <td>0.744761</td>\n",
       "      <td>614</td>\n",
       "      <td>0.802614</td>\n",
       "      <td>87.264512</td>\n",
       "      <td>87.771101</td>\n",
       "      <td>86.720676</td>\n",
       "      <td>87.343979</td>\n",
       "      <td>9.682040e+07</td>\n",
       "      <td>0.0</td>\n",
       "      <td>0.0</td>\n",
       "      <td>87.980214</td>\n",
       "      <td>-0.091560</td>\n",
       "    </tr>\n",
       "    <tr>\n",
       "      <th>2</th>\n",
       "      <td>2020</td>\n",
       "      <td>1 days 00:00:00</td>\n",
       "      <td>6</td>\n",
       "      <td>19</td>\n",
       "      <td>4</td>\n",
       "      <td>2020-06-19</td>\n",
       "      <td>600</td>\n",
       "      <td>444.131714</td>\n",
       "      <td>0.740220</td>\n",
       "      <td>470</td>\n",
       "      <td>0.783333</td>\n",
       "      <td>88.066604</td>\n",
       "      <td>88.543387</td>\n",
       "      <td>85.709978</td>\n",
       "      <td>86.844833</td>\n",
       "      <td>2.644760e+08</td>\n",
       "      <td>0.0</td>\n",
       "      <td>0.0</td>\n",
       "      <td>88.183976</td>\n",
       "      <td>-0.362318</td>\n",
       "    </tr>\n",
       "    <tr>\n",
       "      <th>3</th>\n",
       "      <td>2020</td>\n",
       "      <td>1 days 00:00:00</td>\n",
       "      <td>6</td>\n",
       "      <td>20</td>\n",
       "      <td>5</td>\n",
       "      <td>2020-06-20</td>\n",
       "      <td>722</td>\n",
       "      <td>540.997009</td>\n",
       "      <td>0.749303</td>\n",
       "      <td>564</td>\n",
       "      <td>0.781163</td>\n",
       "      <td>87.793445</td>\n",
       "      <td>88.783438</td>\n",
       "      <td>86.206634</td>\n",
       "      <td>87.602231</td>\n",
       "      <td>2.214657e+08</td>\n",
       "      <td>0.0</td>\n",
       "      <td>0.0</td>\n",
       "      <td>88.228015</td>\n",
       "      <td>-0.147401</td>\n",
       "    </tr>\n",
       "    <tr>\n",
       "      <th>4</th>\n",
       "      <td>2020</td>\n",
       "      <td>1 days 00:00:00</td>\n",
       "      <td>6</td>\n",
       "      <td>21</td>\n",
       "      <td>6</td>\n",
       "      <td>2020-06-21</td>\n",
       "      <td>251</td>\n",
       "      <td>187.757950</td>\n",
       "      <td>0.748040</td>\n",
       "      <td>194</td>\n",
       "      <td>0.772908</td>\n",
       "      <td>87.520286</td>\n",
       "      <td>89.023489</td>\n",
       "      <td>86.703289</td>\n",
       "      <td>88.359629</td>\n",
       "      <td>1.784555e+08</td>\n",
       "      <td>0.0</td>\n",
       "      <td>0.0</td>\n",
       "      <td>88.528491</td>\n",
       "      <td>-0.002659</td>\n",
       "    </tr>\n",
       "  </tbody>\n",
       "</table>\n",
       "</div>"
      ],
      "text/plain": [
       "   Year               ∆t  Month  day  weekday       Date  body  total_score  \\\n",
       "0  2020                0      6   17        2 2020-06-17   619   486.633606   \n",
       "1  2020  1 days 00:00:00      6   18        3 2020-06-18   765   569.742188   \n",
       "2  2020  1 days 00:00:00      6   19        4 2020-06-19   600   444.131714   \n",
       "3  2020  1 days 00:00:00      6   20        5 2020-06-20   722   540.997009   \n",
       "4  2020  1 days 00:00:00      6   21        6 2020-06-21   251   187.757950   \n",
       "\n",
       "   average_score  pos_count  pos_prop       Open       High        Low  \\\n",
       "0       0.786161        519  0.838449  88.193247  88.255328  87.185041   \n",
       "1       0.744761        614  0.802614  87.264512  87.771101  86.720676   \n",
       "2       0.740220        470  0.783333  88.066604  88.543387  85.709978   \n",
       "3       0.749303        564  0.781163  87.793445  88.783438  86.206634   \n",
       "4       0.748040        194  0.772908  87.520286  89.023489  86.703289   \n",
       "\n",
       "       Close        Volume  Dividends  Stock Splits      trend  seasonal  \n",
       "0  87.309204  1.144064e+08        0.0           0.0  87.776451  0.068787  \n",
       "1  87.343979  9.682040e+07        0.0           0.0  87.980214 -0.091560  \n",
       "2  86.844833  2.644760e+08        0.0           0.0  88.183976 -0.362318  \n",
       "3  87.602231  2.214657e+08        0.0           0.0  88.228015 -0.147401  \n",
       "4  88.359629  1.784555e+08        0.0           0.0  88.528491 -0.002659  "
      ]
     },
     "execution_count": 1263,
     "metadata": {},
     "output_type": "execute_result"
    }
   ],
   "source": [
    "full_df.head()"
   ]
  },
  {
   "cell_type": "code",
   "execution_count": 1264,
   "metadata": {},
   "outputs": [],
   "source": [
    "df = full_df[full_df['Date'] < '2021-03-27']\n",
    "train_dates = df['Date']"
   ]
  },
  {
   "cell_type": "code",
   "execution_count": 1267,
   "metadata": {},
   "outputs": [],
   "source": [
    "cols = list(df[['Close','average_score']])\n",
    "df_for_training = df[cols].astype(float)"
   ]
  },
  {
   "cell_type": "code",
   "execution_count": 1268,
   "metadata": {},
   "outputs": [],
   "source": [
    "from sklearn.preprocessing import StandardScaler\n",
    "scalar = StandardScaler()\n",
    "scalar = scalar.fit(df_for_training)\n",
    "df_for_training_scaled = scalar.transform(df_for_training)"
   ]
  },
  {
   "cell_type": "code",
   "execution_count": 1276,
   "metadata": {},
   "outputs": [],
   "source": [
    "trainX =[]\n",
    "trainY =[]\n",
    "n_future =1\n",
    "n_past = 28"
   ]
  },
  {
   "cell_type": "code",
   "execution_count": 1277,
   "metadata": {},
   "outputs": [],
   "source": [
    "for i in range(n_past, len(df_for_training_scaled) -n_future+1):\n",
    "    trainX.append(df_for_training_scaled[i-n_past:i,0:df_for_training.shape[1]])\n",
    "    trainY.append(df_for_training_scaled[i+n_future - 1:i+n_future,0])\n",
    "trainX, trainY = np.array(trainX), np.array(trainY)"
   ]
  },
  {
   "cell_type": "code",
   "execution_count": 1278,
   "metadata": {},
   "outputs": [
    {
     "name": "stdout",
     "output_type": "stream",
     "text": [
      "(255, 28, 2)\n",
      "(255, 1)\n"
     ]
    }
   ],
   "source": [
    "print(trainX.shape)\n",
    "print(trainY.shape)"
   ]
  },
  {
   "cell_type": "code",
   "execution_count": 1279,
   "metadata": {},
   "outputs": [
    {
     "name": "stdout",
     "output_type": "stream",
     "text": [
      "Epoch 1/400\n",
      "8/8 [==============================] - 0s 46ms/step - loss: 0.3397 - mae: 0.6789 - val_loss: 0.0802 - val_mae: 0.3622\n",
      "Epoch 2/400\n",
      "8/8 [==============================] - 0s 14ms/step - loss: 0.3389 - mae: 0.6780 - val_loss: 0.0795 - val_mae: 0.3605\n",
      "Epoch 3/400\n",
      "8/8 [==============================] - 0s 14ms/step - loss: 0.3375 - mae: 0.6765 - val_loss: 0.0786 - val_mae: 0.3581\n",
      "Epoch 4/400\n",
      "8/8 [==============================] - 0s 14ms/step - loss: 0.3359 - mae: 0.6748 - val_loss: 0.0777 - val_mae: 0.3557\n",
      "Epoch 5/400\n",
      "8/8 [==============================] - 0s 14ms/step - loss: 0.3343 - mae: 0.6731 - val_loss: 0.0766 - val_mae: 0.3529\n",
      "Epoch 6/400\n",
      "8/8 [==============================] - 0s 14ms/step - loss: 0.3324 - mae: 0.6712 - val_loss: 0.0757 - val_mae: 0.3503\n",
      "Epoch 7/400\n",
      "8/8 [==============================] - 0s 13ms/step - loss: 0.3307 - mae: 0.6694 - val_loss: 0.0747 - val_mae: 0.3478\n",
      "Epoch 8/400\n",
      "8/8 [==============================] - 0s 13ms/step - loss: 0.3289 - mae: 0.6675 - val_loss: 0.0739 - val_mae: 0.3454\n",
      "Epoch 9/400\n",
      "8/8 [==============================] - 0s 13ms/step - loss: 0.3272 - mae: 0.6657 - val_loss: 0.0730 - val_mae: 0.3431\n",
      "Epoch 10/400\n",
      "8/8 [==============================] - 0s 13ms/step - loss: 0.3256 - mae: 0.6640 - val_loss: 0.0721 - val_mae: 0.3406\n",
      "Epoch 11/400\n",
      "8/8 [==============================] - 0s 13ms/step - loss: 0.3238 - mae: 0.6620 - val_loss: 0.0714 - val_mae: 0.3386\n",
      "Epoch 12/400\n",
      "8/8 [==============================] - 0s 13ms/step - loss: 0.3222 - mae: 0.6603 - val_loss: 0.0706 - val_mae: 0.3363\n",
      "Epoch 13/400\n",
      "8/8 [==============================] - 0s 13ms/step - loss: 0.3205 - mae: 0.6584 - val_loss: 0.0698 - val_mae: 0.3340\n",
      "Epoch 14/400\n",
      "8/8 [==============================] - 0s 13ms/step - loss: 0.3188 - mae: 0.6566 - val_loss: 0.0690 - val_mae: 0.3319\n",
      "Epoch 15/400\n",
      "8/8 [==============================] - 0s 13ms/step - loss: 0.3172 - mae: 0.6548 - val_loss: 0.0683 - val_mae: 0.3298\n",
      "Epoch 16/400\n",
      "8/8 [==============================] - 0s 15ms/step - loss: 0.3155 - mae: 0.6529 - val_loss: 0.0676 - val_mae: 0.3280\n",
      "Epoch 17/400\n",
      "8/8 [==============================] - 0s 15ms/step - loss: 0.3139 - mae: 0.6512 - val_loss: 0.0669 - val_mae: 0.3258\n",
      "Epoch 18/400\n",
      "8/8 [==============================] - 0s 14ms/step - loss: 0.3123 - mae: 0.6493 - val_loss: 0.0663 - val_mae: 0.3240\n",
      "Epoch 19/400\n",
      "8/8 [==============================] - 0s 14ms/step - loss: 0.3107 - mae: 0.6477 - val_loss: 0.0656 - val_mae: 0.3219\n",
      "Epoch 20/400\n",
      "8/8 [==============================] - 0s 13ms/step - loss: 0.3092 - mae: 0.6460 - val_loss: 0.0648 - val_mae: 0.3197\n",
      "Epoch 21/400\n",
      "8/8 [==============================] - 0s 14ms/step - loss: 0.3076 - mae: 0.6442 - val_loss: 0.0641 - val_mae: 0.3177\n",
      "Epoch 22/400\n",
      "8/8 [==============================] - 0s 13ms/step - loss: 0.3061 - mae: 0.6425 - val_loss: 0.0635 - val_mae: 0.3159\n",
      "Epoch 23/400\n",
      "8/8 [==============================] - 0s 15ms/step - loss: 0.3045 - mae: 0.6408 - val_loss: 0.0628 - val_mae: 0.3136\n",
      "Epoch 24/400\n",
      "8/8 [==============================] - 0s 13ms/step - loss: 0.3029 - mae: 0.6391 - val_loss: 0.0620 - val_mae: 0.3114\n",
      "Epoch 25/400\n",
      "8/8 [==============================] - 0s 13ms/step - loss: 0.3015 - mae: 0.6374 - val_loss: 0.0615 - val_mae: 0.3097\n",
      "Epoch 26/400\n",
      "8/8 [==============================] - 0s 13ms/step - loss: 0.3001 - mae: 0.6359 - val_loss: 0.0609 - val_mae: 0.3078\n",
      "Epoch 27/400\n",
      "8/8 [==============================] - 0s 13ms/step - loss: 0.2988 - mae: 0.6343 - val_loss: 0.0603 - val_mae: 0.3059\n",
      "Epoch 28/400\n",
      "8/8 [==============================] - 0s 13ms/step - loss: 0.2974 - mae: 0.6328 - val_loss: 0.0598 - val_mae: 0.3043\n",
      "Epoch 29/400\n",
      "8/8 [==============================] - 0s 13ms/step - loss: 0.2961 - mae: 0.6313 - val_loss: 0.0592 - val_mae: 0.3025\n",
      "Epoch 30/400\n",
      "8/8 [==============================] - 0s 14ms/step - loss: 0.2948 - mae: 0.6299 - val_loss: 0.0586 - val_mae: 0.3007\n",
      "Epoch 31/400\n",
      "8/8 [==============================] - 0s 15ms/step - loss: 0.2936 - mae: 0.6286 - val_loss: 0.0580 - val_mae: 0.2988\n",
      "Epoch 32/400\n",
      "8/8 [==============================] - 0s 13ms/step - loss: 0.2924 - mae: 0.6272 - val_loss: 0.0575 - val_mae: 0.2970\n",
      "Epoch 33/400\n",
      "8/8 [==============================] - 0s 14ms/step - loss: 0.2911 - mae: 0.6258 - val_loss: 0.0569 - val_mae: 0.2951\n",
      "Epoch 34/400\n",
      "8/8 [==============================] - 0s 13ms/step - loss: 0.2898 - mae: 0.6242 - val_loss: 0.0564 - val_mae: 0.2934\n",
      "Epoch 35/400\n",
      "8/8 [==============================] - 0s 14ms/step - loss: 0.2885 - mae: 0.6228 - val_loss: 0.0558 - val_mae: 0.2915\n",
      "Epoch 36/400\n",
      "8/8 [==============================] - 0s 14ms/step - loss: 0.2872 - mae: 0.6213 - val_loss: 0.0553 - val_mae: 0.2900\n",
      "Epoch 37/400\n",
      "8/8 [==============================] - 0s 14ms/step - loss: 0.2860 - mae: 0.6199 - val_loss: 0.0550 - val_mae: 0.2889\n",
      "Epoch 38/400\n",
      "8/8 [==============================] - 0s 13ms/step - loss: 0.2848 - mae: 0.6184 - val_loss: 0.0547 - val_mae: 0.2880\n",
      "Epoch 39/400\n",
      "8/8 [==============================] - 0s 13ms/step - loss: 0.2835 - mae: 0.6169 - val_loss: 0.0544 - val_mae: 0.2868\n",
      "Epoch 40/400\n",
      "8/8 [==============================] - 0s 14ms/step - loss: 0.2823 - mae: 0.6154 - val_loss: 0.0539 - val_mae: 0.2854\n",
      "Epoch 41/400\n",
      "8/8 [==============================] - 0s 14ms/step - loss: 0.2810 - mae: 0.6140 - val_loss: 0.0533 - val_mae: 0.2834\n",
      "Epoch 42/400\n",
      "8/8 [==============================] - 0s 13ms/step - loss: 0.2797 - mae: 0.6125 - val_loss: 0.0527 - val_mae: 0.2814\n",
      "Epoch 43/400\n",
      "8/8 [==============================] - 0s 13ms/step - loss: 0.2784 - mae: 0.6110 - val_loss: 0.0522 - val_mae: 0.2798\n",
      "Epoch 44/400\n",
      "8/8 [==============================] - 0s 14ms/step - loss: 0.2771 - mae: 0.6096 - val_loss: 0.0517 - val_mae: 0.2781\n",
      "Epoch 45/400\n",
      "8/8 [==============================] - 0s 13ms/step - loss: 0.2759 - mae: 0.6081 - val_loss: 0.0512 - val_mae: 0.2767\n",
      "Epoch 46/400\n",
      "8/8 [==============================] - 0s 13ms/step - loss: 0.2746 - mae: 0.6066 - val_loss: 0.0507 - val_mae: 0.2750\n",
      "Epoch 47/400\n",
      "8/8 [==============================] - 0s 13ms/step - loss: 0.2733 - mae: 0.6051 - val_loss: 0.0502 - val_mae: 0.2734\n",
      "Epoch 48/400\n",
      "8/8 [==============================] - 0s 13ms/step - loss: 0.2721 - mae: 0.6037 - val_loss: 0.0498 - val_mae: 0.2721\n",
      "Epoch 49/400\n",
      "8/8 [==============================] - 0s 14ms/step - loss: 0.2708 - mae: 0.6021 - val_loss: 0.0494 - val_mae: 0.2709\n",
      "Epoch 50/400\n",
      "8/8 [==============================] - 0s 15ms/step - loss: 0.2696 - mae: 0.6007 - val_loss: 0.0490 - val_mae: 0.2694\n",
      "Epoch 51/400\n",
      "8/8 [==============================] - 0s 13ms/step - loss: 0.2684 - mae: 0.5992 - val_loss: 0.0486 - val_mae: 0.2682\n",
      "Epoch 52/400\n",
      "8/8 [==============================] - 0s 13ms/step - loss: 0.2671 - mae: 0.5977 - val_loss: 0.0482 - val_mae: 0.2668\n",
      "Epoch 53/400\n",
      "8/8 [==============================] - 0s 13ms/step - loss: 0.2659 - mae: 0.5962 - val_loss: 0.0477 - val_mae: 0.2652\n",
      "Epoch 54/400\n",
      "8/8 [==============================] - 0s 13ms/step - loss: 0.2647 - mae: 0.5948 - val_loss: 0.0472 - val_mae: 0.2633\n",
      "Epoch 55/400\n",
      "8/8 [==============================] - 0s 13ms/step - loss: 0.2634 - mae: 0.5932 - val_loss: 0.0466 - val_mae: 0.2614\n",
      "Epoch 56/400\n",
      "8/8 [==============================] - 0s 13ms/step - loss: 0.2621 - mae: 0.5917 - val_loss: 0.0462 - val_mae: 0.2599\n",
      "Epoch 57/400\n",
      "8/8 [==============================] - 0s 13ms/step - loss: 0.2609 - mae: 0.5902 - val_loss: 0.0458 - val_mae: 0.2586\n",
      "Epoch 58/400\n",
      "8/8 [==============================] - 0s 13ms/step - loss: 0.2596 - mae: 0.5887 - val_loss: 0.0453 - val_mae: 0.2569\n",
      "Epoch 59/400\n",
      "8/8 [==============================] - 0s 14ms/step - loss: 0.2584 - mae: 0.5872 - val_loss: 0.0449 - val_mae: 0.2556\n",
      "Epoch 60/400\n",
      "8/8 [==============================] - 0s 15ms/step - loss: 0.2572 - mae: 0.5858 - val_loss: 0.0446 - val_mae: 0.2543\n",
      "Epoch 61/400\n",
      "8/8 [==============================] - 0s 14ms/step - loss: 0.2561 - mae: 0.5843 - val_loss: 0.0441 - val_mae: 0.2528\n",
      "Epoch 62/400\n",
      "8/8 [==============================] - 0s 14ms/step - loss: 0.2548 - mae: 0.5828 - val_loss: 0.0437 - val_mae: 0.2513\n",
      "Epoch 63/400\n"
     ]
    },
    {
     "name": "stdout",
     "output_type": "stream",
     "text": [
      "8/8 [==============================] - 0s 14ms/step - loss: 0.2536 - mae: 0.5813 - val_loss: 0.0433 - val_mae: 0.2498\n",
      "Epoch 64/400\n",
      "8/8 [==============================] - 0s 14ms/step - loss: 0.2524 - mae: 0.5799 - val_loss: 0.0429 - val_mae: 0.2484\n",
      "Epoch 65/400\n",
      "8/8 [==============================] - 0s 14ms/step - loss: 0.2512 - mae: 0.5784 - val_loss: 0.0426 - val_mae: 0.2471\n",
      "Epoch 66/400\n",
      "8/8 [==============================] - 0s 14ms/step - loss: 0.2501 - mae: 0.5769 - val_loss: 0.0423 - val_mae: 0.2460\n",
      "Epoch 67/400\n",
      "8/8 [==============================] - 0s 14ms/step - loss: 0.2489 - mae: 0.5754 - val_loss: 0.0420 - val_mae: 0.2450\n",
      "Epoch 68/400\n",
      "8/8 [==============================] - 0s 13ms/step - loss: 0.2478 - mae: 0.5740 - val_loss: 0.0417 - val_mae: 0.2440\n",
      "Epoch 69/400\n",
      "8/8 [==============================] - 0s 13ms/step - loss: 0.2466 - mae: 0.5725 - val_loss: 0.0415 - val_mae: 0.2429\n",
      "Epoch 70/400\n",
      "8/8 [==============================] - 0s 13ms/step - loss: 0.2455 - mae: 0.5710 - val_loss: 0.0411 - val_mae: 0.2415\n",
      "Epoch 71/400\n",
      "8/8 [==============================] - 0s 13ms/step - loss: 0.2443 - mae: 0.5695 - val_loss: 0.0407 - val_mae: 0.2402\n",
      "Epoch 72/400\n",
      "8/8 [==============================] - 0s 13ms/step - loss: 0.2431 - mae: 0.5680 - val_loss: 0.0404 - val_mae: 0.2388\n",
      "Epoch 73/400\n",
      "8/8 [==============================] - 0s 13ms/step - loss: 0.2419 - mae: 0.5665 - val_loss: 0.0400 - val_mae: 0.2373\n",
      "Epoch 74/400\n",
      "8/8 [==============================] - 0s 15ms/step - loss: 0.2406 - mae: 0.5649 - val_loss: 0.0395 - val_mae: 0.2355\n",
      "Epoch 75/400\n",
      "8/8 [==============================] - 0s 13ms/step - loss: 0.2393 - mae: 0.5633 - val_loss: 0.0390 - val_mae: 0.2336\n",
      "Epoch 76/400\n",
      "8/8 [==============================] - 0s 14ms/step - loss: 0.2380 - mae: 0.5616 - val_loss: 0.0386 - val_mae: 0.2321\n",
      "Epoch 77/400\n",
      "8/8 [==============================] - 0s 13ms/step - loss: 0.2369 - mae: 0.5602 - val_loss: 0.0382 - val_mae: 0.2302\n",
      "Epoch 78/400\n",
      "8/8 [==============================] - 0s 13ms/step - loss: 0.2356 - mae: 0.5585 - val_loss: 0.0378 - val_mae: 0.2288\n",
      "Epoch 79/400\n",
      "8/8 [==============================] - 0s 13ms/step - loss: 0.2344 - mae: 0.5570 - val_loss: 0.0374 - val_mae: 0.2271\n",
      "Epoch 80/400\n",
      "8/8 [==============================] - 0s 15ms/step - loss: 0.2332 - mae: 0.5554 - val_loss: 0.0370 - val_mae: 0.2255\n",
      "Epoch 81/400\n",
      "8/8 [==============================] - 0s 14ms/step - loss: 0.2319 - mae: 0.5538 - val_loss: 0.0366 - val_mae: 0.2237\n",
      "Epoch 82/400\n",
      "8/8 [==============================] - 0s 14ms/step - loss: 0.2307 - mae: 0.5522 - val_loss: 0.0362 - val_mae: 0.2220\n",
      "Epoch 83/400\n",
      "8/8 [==============================] - 0s 13ms/step - loss: 0.2294 - mae: 0.5506 - val_loss: 0.0357 - val_mae: 0.2202\n",
      "Epoch 84/400\n",
      "8/8 [==============================] - 0s 15ms/step - loss: 0.2282 - mae: 0.5490 - val_loss: 0.0354 - val_mae: 0.2186\n",
      "Epoch 85/400\n",
      "8/8 [==============================] - 0s 14ms/step - loss: 0.2270 - mae: 0.5475 - val_loss: 0.0351 - val_mae: 0.2173\n",
      "Epoch 86/400\n",
      "8/8 [==============================] - 0s 13ms/step - loss: 0.2258 - mae: 0.5458 - val_loss: 0.0348 - val_mae: 0.2162\n",
      "Epoch 87/400\n",
      "8/8 [==============================] - 0s 13ms/step - loss: 0.2246 - mae: 0.5442 - val_loss: 0.0346 - val_mae: 0.2150\n",
      "Epoch 88/400\n",
      "8/8 [==============================] - 0s 14ms/step - loss: 0.2234 - mae: 0.5425 - val_loss: 0.0342 - val_mae: 0.2136\n",
      "Epoch 89/400\n",
      "8/8 [==============================] - 0s 13ms/step - loss: 0.2222 - mae: 0.5410 - val_loss: 0.0339 - val_mae: 0.2120\n",
      "Epoch 90/400\n",
      "8/8 [==============================] - 0s 13ms/step - loss: 0.2209 - mae: 0.5393 - val_loss: 0.0337 - val_mae: 0.2110\n",
      "Epoch 91/400\n",
      "8/8 [==============================] - 0s 14ms/step - loss: 0.2197 - mae: 0.5376 - val_loss: 0.0334 - val_mae: 0.2100\n",
      "Epoch 92/400\n",
      "8/8 [==============================] - 0s 13ms/step - loss: 0.2185 - mae: 0.5360 - val_loss: 0.0332 - val_mae: 0.2089\n",
      "Epoch 93/400\n",
      "8/8 [==============================] - 0s 13ms/step - loss: 0.2172 - mae: 0.5343 - val_loss: 0.0329 - val_mae: 0.2077\n",
      "Epoch 94/400\n",
      "8/8 [==============================] - 0s 13ms/step - loss: 0.2159 - mae: 0.5327 - val_loss: 0.0327 - val_mae: 0.2064\n",
      "Epoch 95/400\n",
      "8/8 [==============================] - 0s 13ms/step - loss: 0.2147 - mae: 0.5310 - val_loss: 0.0324 - val_mae: 0.2052\n",
      "Epoch 96/400\n",
      "8/8 [==============================] - 0s 13ms/step - loss: 0.2135 - mae: 0.5294 - val_loss: 0.0322 - val_mae: 0.2040\n",
      "Epoch 97/400\n",
      "8/8 [==============================] - 0s 13ms/step - loss: 0.2122 - mae: 0.5277 - val_loss: 0.0318 - val_mae: 0.2025\n",
      "Epoch 98/400\n",
      "8/8 [==============================] - 0s 13ms/step - loss: 0.2110 - mae: 0.5261 - val_loss: 0.0316 - val_mae: 0.2013\n",
      "Epoch 99/400\n",
      "8/8 [==============================] - 0s 13ms/step - loss: 0.2098 - mae: 0.5244 - val_loss: 0.0313 - val_mae: 0.2001\n",
      "Epoch 100/400\n",
      "8/8 [==============================] - 0s 13ms/step - loss: 0.2084 - mae: 0.5226 - val_loss: 0.0309 - val_mae: 0.1986\n",
      "Epoch 101/400\n",
      "8/8 [==============================] - 0s 13ms/step - loss: 0.2071 - mae: 0.5208 - val_loss: 0.0307 - val_mae: 0.1974\n",
      "Epoch 102/400\n",
      "8/8 [==============================] - 0s 13ms/step - loss: 0.2058 - mae: 0.5191 - val_loss: 0.0304 - val_mae: 0.1961\n",
      "Epoch 103/400\n",
      "8/8 [==============================] - 0s 14ms/step - loss: 0.2045 - mae: 0.5172 - val_loss: 0.0301 - val_mae: 0.1947\n",
      "Epoch 104/400\n",
      "8/8 [==============================] - 0s 13ms/step - loss: 0.2032 - mae: 0.5154 - val_loss: 0.0297 - val_mae: 0.1932\n",
      "Epoch 105/400\n",
      "8/8 [==============================] - 0s 14ms/step - loss: 0.2018 - mae: 0.5135 - val_loss: 0.0295 - val_mae: 0.1920\n",
      "Epoch 106/400\n",
      "8/8 [==============================] - 0s 14ms/step - loss: 0.2005 - mae: 0.5116 - val_loss: 0.0292 - val_mae: 0.1906\n",
      "Epoch 107/400\n",
      "8/8 [==============================] - 0s 14ms/step - loss: 0.1991 - mae: 0.5097 - val_loss: 0.0289 - val_mae: 0.1894\n",
      "Epoch 108/400\n",
      "8/8 [==============================] - 0s 14ms/step - loss: 0.1978 - mae: 0.5080 - val_loss: 0.0287 - val_mae: 0.1887\n",
      "Epoch 109/400\n",
      "8/8 [==============================] - 0s 14ms/step - loss: 0.1966 - mae: 0.5061 - val_loss: 0.0284 - val_mae: 0.1876\n",
      "Epoch 110/400\n",
      "8/8 [==============================] - 0s 14ms/step - loss: 0.1952 - mae: 0.5042 - val_loss: 0.0282 - val_mae: 0.1866\n",
      "Epoch 111/400\n",
      "8/8 [==============================] - 0s 14ms/step - loss: 0.1939 - mae: 0.5024 - val_loss: 0.0279 - val_mae: 0.1856\n",
      "Epoch 112/400\n",
      "8/8 [==============================] - 0s 13ms/step - loss: 0.1925 - mae: 0.5004 - val_loss: 0.0276 - val_mae: 0.1845\n",
      "Epoch 113/400\n",
      "8/8 [==============================] - 0s 14ms/step - loss: 0.1911 - mae: 0.4984 - val_loss: 0.0274 - val_mae: 0.1838\n",
      "Epoch 114/400\n",
      "8/8 [==============================] - 0s 13ms/step - loss: 0.1898 - mae: 0.4965 - val_loss: 0.0272 - val_mae: 0.1832\n",
      "Epoch 115/400\n",
      "8/8 [==============================] - 0s 14ms/step - loss: 0.1885 - mae: 0.4945 - val_loss: 0.0270 - val_mae: 0.1824\n",
      "Epoch 116/400\n",
      "8/8 [==============================] - 0s 13ms/step - loss: 0.1871 - mae: 0.4927 - val_loss: 0.0268 - val_mae: 0.1816\n",
      "Epoch 117/400\n",
      "8/8 [==============================] - 0s 13ms/step - loss: 0.1858 - mae: 0.4907 - val_loss: 0.0266 - val_mae: 0.1809\n",
      "Epoch 118/400\n",
      "8/8 [==============================] - 0s 13ms/step - loss: 0.1844 - mae: 0.4887 - val_loss: 0.0264 - val_mae: 0.1801\n",
      "Epoch 119/400\n",
      "8/8 [==============================] - 0s 14ms/step - loss: 0.1830 - mae: 0.4866 - val_loss: 0.0263 - val_mae: 0.1793\n",
      "Epoch 120/400\n",
      "8/8 [==============================] - 0s 13ms/step - loss: 0.1816 - mae: 0.4845 - val_loss: 0.0260 - val_mae: 0.1785\n",
      "Epoch 121/400\n",
      "8/8 [==============================] - 0s 13ms/step - loss: 0.1801 - mae: 0.4823 - val_loss: 0.0259 - val_mae: 0.1780\n",
      "Epoch 122/400\n",
      "8/8 [==============================] - 0s 13ms/step - loss: 0.1787 - mae: 0.4802 - val_loss: 0.0258 - val_mae: 0.1775\n",
      "Epoch 123/400\n",
      "8/8 [==============================] - 0s 14ms/step - loss: 0.1772 - mae: 0.4780 - val_loss: 0.0256 - val_mae: 0.1770\n",
      "Epoch 124/400\n",
      "8/8 [==============================] - 0s 13ms/step - loss: 0.1758 - mae: 0.4758 - val_loss: 0.0253 - val_mae: 0.1763\n",
      "Epoch 125/400\n"
     ]
    },
    {
     "name": "stdout",
     "output_type": "stream",
     "text": [
      "8/8 [==============================] - 0s 13ms/step - loss: 0.1742 - mae: 0.4735 - val_loss: 0.0251 - val_mae: 0.1756\n",
      "Epoch 126/400\n",
      "8/8 [==============================] - 0s 14ms/step - loss: 0.1727 - mae: 0.4711 - val_loss: 0.0250 - val_mae: 0.1752\n",
      "Epoch 127/400\n",
      "8/8 [==============================] - 0s 13ms/step - loss: 0.1712 - mae: 0.4689 - val_loss: 0.0248 - val_mae: 0.1747\n",
      "Epoch 128/400\n",
      "8/8 [==============================] - 0s 13ms/step - loss: 0.1698 - mae: 0.4666 - val_loss: 0.0246 - val_mae: 0.1740\n",
      "Epoch 129/400\n",
      "8/8 [==============================] - 0s 13ms/step - loss: 0.1682 - mae: 0.4643 - val_loss: 0.0243 - val_mae: 0.1732\n",
      "Epoch 130/400\n",
      "8/8 [==============================] - 0s 13ms/step - loss: 0.1666 - mae: 0.4619 - val_loss: 0.0241 - val_mae: 0.1724\n",
      "Epoch 131/400\n",
      "8/8 [==============================] - 0s 13ms/step - loss: 0.1652 - mae: 0.4595 - val_loss: 0.0239 - val_mae: 0.1718\n",
      "Epoch 132/400\n",
      "8/8 [==============================] - 0s 13ms/step - loss: 0.1636 - mae: 0.4572 - val_loss: 0.0237 - val_mae: 0.1711\n",
      "Epoch 133/400\n",
      "8/8 [==============================] - 0s 13ms/step - loss: 0.1622 - mae: 0.4549 - val_loss: 0.0235 - val_mae: 0.1705\n",
      "Epoch 134/400\n",
      "8/8 [==============================] - 0s 14ms/step - loss: 0.1606 - mae: 0.4524 - val_loss: 0.0233 - val_mae: 0.1699\n",
      "Epoch 135/400\n",
      "8/8 [==============================] - 0s 13ms/step - loss: 0.1591 - mae: 0.4501 - val_loss: 0.0232 - val_mae: 0.1693\n",
      "Epoch 136/400\n",
      "8/8 [==============================] - 0s 14ms/step - loss: 0.1576 - mae: 0.4478 - val_loss: 0.0229 - val_mae: 0.1686\n",
      "Epoch 137/400\n",
      "8/8 [==============================] - 0s 13ms/step - loss: 0.1560 - mae: 0.4452 - val_loss: 0.0228 - val_mae: 0.1681\n",
      "Epoch 138/400\n",
      "8/8 [==============================] - 0s 13ms/step - loss: 0.1545 - mae: 0.4429 - val_loss: 0.0226 - val_mae: 0.1674\n",
      "Epoch 139/400\n",
      "8/8 [==============================] - 0s 13ms/step - loss: 0.1529 - mae: 0.4404 - val_loss: 0.0225 - val_mae: 0.1669\n",
      "Epoch 140/400\n",
      "8/8 [==============================] - 0s 13ms/step - loss: 0.1512 - mae: 0.4378 - val_loss: 0.0223 - val_mae: 0.1663\n",
      "Epoch 141/400\n",
      "8/8 [==============================] - 0s 13ms/step - loss: 0.1497 - mae: 0.4354 - val_loss: 0.0221 - val_mae: 0.1657\n",
      "Epoch 142/400\n",
      "8/8 [==============================] - 0s 13ms/step - loss: 0.1481 - mae: 0.4328 - val_loss: 0.0220 - val_mae: 0.1651\n",
      "Epoch 143/400\n",
      "8/8 [==============================] - 0s 13ms/step - loss: 0.1465 - mae: 0.4303 - val_loss: 0.0218 - val_mae: 0.1645\n",
      "Epoch 144/400\n",
      "8/8 [==============================] - 0s 13ms/step - loss: 0.1448 - mae: 0.4277 - val_loss: 0.0216 - val_mae: 0.1637\n",
      "Epoch 145/400\n",
      "8/8 [==============================] - 0s 13ms/step - loss: 0.1431 - mae: 0.4249 - val_loss: 0.0214 - val_mae: 0.1630\n",
      "Epoch 146/400\n",
      "8/8 [==============================] - 0s 13ms/step - loss: 0.1414 - mae: 0.4221 - val_loss: 0.0213 - val_mae: 0.1627\n",
      "Epoch 147/400\n",
      "8/8 [==============================] - 0s 13ms/step - loss: 0.1395 - mae: 0.4192 - val_loss: 0.0212 - val_mae: 0.1620\n",
      "Epoch 148/400\n",
      "8/8 [==============================] - 0s 13ms/step - loss: 0.1377 - mae: 0.4163 - val_loss: 0.0210 - val_mae: 0.1613\n",
      "Epoch 149/400\n",
      "8/8 [==============================] - 0s 13ms/step - loss: 0.1360 - mae: 0.4135 - val_loss: 0.0208 - val_mae: 0.1606\n",
      "Epoch 150/400\n",
      "8/8 [==============================] - 0s 13ms/step - loss: 0.1342 - mae: 0.4105 - val_loss: 0.0207 - val_mae: 0.1599\n",
      "Epoch 151/400\n",
      "8/8 [==============================] - 0s 13ms/step - loss: 0.1326 - mae: 0.4078 - val_loss: 0.0205 - val_mae: 0.1592\n",
      "Epoch 152/400\n",
      "8/8 [==============================] - 0s 13ms/step - loss: 0.1308 - mae: 0.4048 - val_loss: 0.0203 - val_mae: 0.1585\n",
      "Epoch 153/400\n",
      "8/8 [==============================] - 0s 13ms/step - loss: 0.1290 - mae: 0.4018 - val_loss: 0.0202 - val_mae: 0.1581\n",
      "Epoch 154/400\n",
      "8/8 [==============================] - 0s 13ms/step - loss: 0.1271 - mae: 0.3986 - val_loss: 0.0202 - val_mae: 0.1580\n",
      "Epoch 155/400\n",
      "8/8 [==============================] - 0s 13ms/step - loss: 0.1252 - mae: 0.3954 - val_loss: 0.0202 - val_mae: 0.1581\n",
      "Epoch 156/400\n",
      "8/8 [==============================] - 0s 13ms/step - loss: 0.1234 - mae: 0.3921 - val_loss: 0.0201 - val_mae: 0.1579\n",
      "Epoch 157/400\n",
      "8/8 [==============================] - 0s 13ms/step - loss: 0.1215 - mae: 0.3889 - val_loss: 0.0200 - val_mae: 0.1575\n",
      "Epoch 158/400\n",
      "8/8 [==============================] - 0s 14ms/step - loss: 0.1199 - mae: 0.3859 - val_loss: 0.0198 - val_mae: 0.1570\n",
      "Epoch 159/400\n",
      "8/8 [==============================] - 0s 13ms/step - loss: 0.1182 - mae: 0.3828 - val_loss: 0.0197 - val_mae: 0.1564\n",
      "Epoch 160/400\n",
      "8/8 [==============================] - 0s 13ms/step - loss: 0.1166 - mae: 0.3799 - val_loss: 0.0196 - val_mae: 0.1561\n",
      "Epoch 161/400\n",
      "8/8 [==============================] - 0s 14ms/step - loss: 0.1147 - mae: 0.3766 - val_loss: 0.0195 - val_mae: 0.1558\n",
      "Epoch 162/400\n",
      "8/8 [==============================] - 0s 13ms/step - loss: 0.1131 - mae: 0.3733 - val_loss: 0.0194 - val_mae: 0.1554\n",
      "Epoch 163/400\n",
      "8/8 [==============================] - 0s 13ms/step - loss: 0.1114 - mae: 0.3702 - val_loss: 0.0193 - val_mae: 0.1550\n",
      "Epoch 164/400\n",
      "8/8 [==============================] - 0s 13ms/step - loss: 0.1097 - mae: 0.3671 - val_loss: 0.0192 - val_mae: 0.1546\n",
      "Epoch 165/400\n",
      "8/8 [==============================] - 0s 14ms/step - loss: 0.1080 - mae: 0.3637 - val_loss: 0.0190 - val_mae: 0.1543\n",
      "Epoch 166/400\n",
      "8/8 [==============================] - 0s 13ms/step - loss: 0.1062 - mae: 0.3600 - val_loss: 0.0188 - val_mae: 0.1539\n",
      "Epoch 167/400\n",
      "8/8 [==============================] - 0s 13ms/step - loss: 0.1044 - mae: 0.3565 - val_loss: 0.0187 - val_mae: 0.1535\n",
      "Epoch 168/400\n",
      "8/8 [==============================] - 0s 14ms/step - loss: 0.1027 - mae: 0.3532 - val_loss: 0.0185 - val_mae: 0.1531\n",
      "Epoch 169/400\n",
      "8/8 [==============================] - 0s 14ms/step - loss: 0.1011 - mae: 0.3501 - val_loss: 0.0184 - val_mae: 0.1528\n",
      "Epoch 170/400\n",
      "8/8 [==============================] - 0s 13ms/step - loss: 0.0996 - mae: 0.3471 - val_loss: 0.0183 - val_mae: 0.1526\n",
      "Epoch 171/400\n",
      "8/8 [==============================] - 0s 13ms/step - loss: 0.0981 - mae: 0.3441 - val_loss: 0.0182 - val_mae: 0.1526\n",
      "Epoch 172/400\n",
      "8/8 [==============================] - 0s 15ms/step - loss: 0.0966 - mae: 0.3414 - val_loss: 0.0182 - val_mae: 0.1527\n",
      "Epoch 173/400\n",
      "8/8 [==============================] - 0s 13ms/step - loss: 0.0949 - mae: 0.3385 - val_loss: 0.0182 - val_mae: 0.1530\n",
      "Epoch 174/400\n",
      "8/8 [==============================] - 0s 13ms/step - loss: 0.0932 - mae: 0.3356 - val_loss: 0.0182 - val_mae: 0.1533\n",
      "Epoch 175/400\n",
      "8/8 [==============================] - 0s 13ms/step - loss: 0.0915 - mae: 0.3331 - val_loss: 0.0182 - val_mae: 0.1534\n",
      "Epoch 176/400\n",
      "8/8 [==============================] - 0s 14ms/step - loss: 0.0900 - mae: 0.3306 - val_loss: 0.0181 - val_mae: 0.1535\n",
      "Epoch 177/400\n",
      "8/8 [==============================] - 0s 13ms/step - loss: 0.0885 - mae: 0.3280 - val_loss: 0.0180 - val_mae: 0.1535\n",
      "Epoch 178/400\n",
      "8/8 [==============================] - 0s 13ms/step - loss: 0.0870 - mae: 0.3254 - val_loss: 0.0179 - val_mae: 0.1534\n",
      "Epoch 179/400\n",
      "8/8 [==============================] - 0s 14ms/step - loss: 0.0858 - mae: 0.3232 - val_loss: 0.0179 - val_mae: 0.1534\n",
      "Epoch 180/400\n",
      "8/8 [==============================] - 0s 13ms/step - loss: 0.0844 - mae: 0.3207 - val_loss: 0.0178 - val_mae: 0.1534\n",
      "Epoch 181/400\n",
      "8/8 [==============================] - 0s 13ms/step - loss: 0.0832 - mae: 0.3186 - val_loss: 0.0177 - val_mae: 0.1534\n",
      "Epoch 182/400\n",
      "8/8 [==============================] - 0s 15ms/step - loss: 0.0821 - mae: 0.3164 - val_loss: 0.0177 - val_mae: 0.1535\n",
      "Epoch 183/400\n",
      "8/8 [==============================] - 0s 13ms/step - loss: 0.0809 - mae: 0.3143 - val_loss: 0.0176 - val_mae: 0.1535\n",
      "Epoch 184/400\n",
      "8/8 [==============================] - 0s 13ms/step - loss: 0.0797 - mae: 0.3119 - val_loss: 0.0176 - val_mae: 0.1534\n",
      "Epoch 185/400\n",
      "8/8 [==============================] - 0s 14ms/step - loss: 0.0785 - mae: 0.3098 - val_loss: 0.0175 - val_mae: 0.1534\n",
      "Epoch 186/400\n",
      "8/8 [==============================] - 0s 14ms/step - loss: 0.0774 - mae: 0.3075 - val_loss: 0.0175 - val_mae: 0.1535\n",
      "Epoch 187/400\n"
     ]
    },
    {
     "name": "stdout",
     "output_type": "stream",
     "text": [
      "8/8 [==============================] - 0s 13ms/step - loss: 0.0761 - mae: 0.3053 - val_loss: 0.0174 - val_mae: 0.1536\n",
      "Epoch 188/400\n",
      "8/8 [==============================] - 0s 14ms/step - loss: 0.0751 - mae: 0.3034 - val_loss: 0.0174 - val_mae: 0.1536\n",
      "Epoch 189/400\n",
      "8/8 [==============================] - 0s 16ms/step - loss: 0.0743 - mae: 0.3016 - val_loss: 0.0173 - val_mae: 0.1537\n",
      "Epoch 190/400\n",
      "8/8 [==============================] - 0s 17ms/step - loss: 0.0734 - mae: 0.3000 - val_loss: 0.0173 - val_mae: 0.1537\n",
      "Epoch 191/400\n",
      "8/8 [==============================] - 0s 19ms/step - loss: 0.0726 - mae: 0.2983 - val_loss: 0.0172 - val_mae: 0.1537\n",
      "Epoch 192/400\n",
      "8/8 [==============================] - 0s 19ms/step - loss: 0.0719 - mae: 0.2966 - val_loss: 0.0172 - val_mae: 0.1537\n",
      "Epoch 193/400\n",
      "8/8 [==============================] - 0s 18ms/step - loss: 0.0711 - mae: 0.2949 - val_loss: 0.0172 - val_mae: 0.1537\n",
      "Epoch 194/400\n",
      "8/8 [==============================] - 0s 18ms/step - loss: 0.0704 - mae: 0.2935 - val_loss: 0.0172 - val_mae: 0.1538\n",
      "Epoch 195/400\n",
      "8/8 [==============================] - 0s 19ms/step - loss: 0.0699 - mae: 0.2922 - val_loss: 0.0171 - val_mae: 0.1538\n",
      "Epoch 196/400\n",
      "8/8 [==============================] - 0s 21ms/step - loss: 0.0692 - mae: 0.2905 - val_loss: 0.0171 - val_mae: 0.1538\n",
      "Epoch 197/400\n",
      "8/8 [==============================] - 0s 18ms/step - loss: 0.0686 - mae: 0.2892 - val_loss: 0.0171 - val_mae: 0.1538\n",
      "Epoch 198/400\n",
      "8/8 [==============================] - 0s 18ms/step - loss: 0.0680 - mae: 0.2876 - val_loss: 0.0171 - val_mae: 0.1539\n",
      "Epoch 199/400\n",
      "8/8 [==============================] - 0s 18ms/step - loss: 0.0672 - mae: 0.2860 - val_loss: 0.0171 - val_mae: 0.1541\n",
      "Epoch 200/400\n",
      "8/8 [==============================] - 0s 19ms/step - loss: 0.0667 - mae: 0.2850 - val_loss: 0.0171 - val_mae: 0.1542\n",
      "Epoch 201/400\n",
      "8/8 [==============================] - 0s 20ms/step - loss: 0.0663 - mae: 0.2839 - val_loss: 0.0171 - val_mae: 0.1542\n",
      "Epoch 202/400\n",
      "8/8 [==============================] - 0s 19ms/step - loss: 0.0659 - mae: 0.2827 - val_loss: 0.0171 - val_mae: 0.1542\n",
      "Epoch 203/400\n",
      "8/8 [==============================] - 0s 18ms/step - loss: 0.0657 - mae: 0.2818 - val_loss: 0.0171 - val_mae: 0.1542\n",
      "Epoch 204/400\n",
      "8/8 [==============================] - 0s 18ms/step - loss: 0.0654 - mae: 0.2809 - val_loss: 0.0171 - val_mae: 0.1541\n",
      "Epoch 205/400\n",
      "8/8 [==============================] - 0s 18ms/step - loss: 0.0651 - mae: 0.2800 - val_loss: 0.0172 - val_mae: 0.1541\n",
      "Epoch 206/400\n",
      "8/8 [==============================] - 0s 18ms/step - loss: 0.0649 - mae: 0.2792 - val_loss: 0.0172 - val_mae: 0.1541\n",
      "Epoch 207/400\n",
      "8/8 [==============================] - 0s 18ms/step - loss: 0.0647 - mae: 0.2786 - val_loss: 0.0172 - val_mae: 0.1542\n",
      "Epoch 208/400\n",
      "8/8 [==============================] - 0s 18ms/step - loss: 0.0645 - mae: 0.2781 - val_loss: 0.0172 - val_mae: 0.1542\n",
      "Epoch 209/400\n",
      "8/8 [==============================] - 0s 17ms/step - loss: 0.0643 - mae: 0.2773 - val_loss: 0.0172 - val_mae: 0.1541\n",
      "Epoch 210/400\n",
      "8/8 [==============================] - 0s 18ms/step - loss: 0.0641 - mae: 0.2767 - val_loss: 0.0172 - val_mae: 0.1540\n",
      "Epoch 211/400\n",
      "8/8 [==============================] - 0s 18ms/step - loss: 0.0639 - mae: 0.2761 - val_loss: 0.0173 - val_mae: 0.1540\n",
      "Epoch 212/400\n",
      "8/8 [==============================] - 0s 18ms/step - loss: 0.0638 - mae: 0.2756 - val_loss: 0.0173 - val_mae: 0.1540\n",
      "Epoch 213/400\n",
      "8/8 [==============================] - 0s 18ms/step - loss: 0.0636 - mae: 0.2751 - val_loss: 0.0173 - val_mae: 0.1539\n",
      "Epoch 214/400\n",
      "8/8 [==============================] - 0s 18ms/step - loss: 0.0635 - mae: 0.2746 - val_loss: 0.0173 - val_mae: 0.1540\n",
      "Epoch 215/400\n",
      "8/8 [==============================] - 0s 18ms/step - loss: 0.0634 - mae: 0.2740 - val_loss: 0.0174 - val_mae: 0.1542\n",
      "Epoch 216/400\n",
      "8/8 [==============================] - 0s 18ms/step - loss: 0.0633 - mae: 0.2737 - val_loss: 0.0174 - val_mae: 0.1543\n",
      "Epoch 217/400\n",
      "8/8 [==============================] - 0s 18ms/step - loss: 0.0632 - mae: 0.2734 - val_loss: 0.0174 - val_mae: 0.1545\n"
     ]
    }
   ],
   "source": [
    "model = tf.keras.models.Sequential()\n",
    "model.add(LSTM(64, activation=\"relu\", input_shape=(trainX.shape[1], trainX.shape[2]), return_sequences=True))\n",
    "model.add(LSTM(32, activation=\"relu\", return_sequences=False))\n",
    "model.add(Dense(trainY.shape[1]))\n",
    "optimizer = tf.keras.optimizers.SGD(lr=1e-4, momentum=0.9)\n",
    "model.compile(loss=tf.keras.losses.Huber(),\n",
    "              optimizer=optimizer,\n",
    "              metrics=[\"mae\"])\n",
    "history = model.fit(trainX, trainY, epochs=400, validation_split=0.1, verbose =1, callbacks = [early_stop])"
   ]
  },
  {
   "cell_type": "code",
   "execution_count": 1280,
   "metadata": {},
   "outputs": [],
   "source": [
    "n_future = 28\n",
    "forecast_period_dates = pd.date_range(list(train_dates)[-1], periods= n_future, freq = '1d').tolist()\n",
    "forecast = model.predict(trainX[-n_future:])"
   ]
  },
  {
   "cell_type": "code",
   "execution_count": 1281,
   "metadata": {},
   "outputs": [],
   "source": [
    "#Converting the shape of forecasted array to Xtrain shape to unscale the prediction\n",
    "forecast_copies = np.repeat(forecast, df_for_training.shape[1], axis =-1)\n",
    "y_pred_future = scalar.inverse_transform(forecast_copies)[:,0]"
   ]
  },
  {
   "cell_type": "code",
   "execution_count": 1283,
   "metadata": {},
   "outputs": [
    {
     "name": "stdout",
     "output_type": "stream",
     "text": [
      "7.7396674\n"
     ]
    }
   ],
   "source": [
    "error = tf.keras.metrics.mean_absolute_error(full_df['Close'][-28:], y_pred_future).numpy()\n",
    "print(error)"
   ]
  },
  {
   "cell_type": "markdown",
   "metadata": {},
   "source": [
    "# Plotting Forecasetd price vs actual price"
   ]
  },
  {
   "cell_type": "code",
   "execution_count": 1287,
   "metadata": {},
   "outputs": [
    {
     "data": {
      "text/plain": [
       "[<matplotlib.lines.Line2D at 0x267a6f26e80>]"
      ]
     },
     "execution_count": 1287,
     "metadata": {},
     "output_type": "execute_result"
    },
    {
     "data": {
      "image/png": "[encoded data removed]",
      "text/plain": [
       "<Figure size 1080x432 with 1 Axes>"
      ]
     },
     "metadata": {
      "needs_background": "light"
     },
     "output_type": "display_data"
    }
   ],
   "source": [
    "plt.figure(figsize=(15, 6)) \n",
    "price_date = full_df['Date']\n",
    "price_close = full_df['Close']\n",
    "\n",
    "plt.plot_date(price_date, price_close, linestyle='solid',color='k')\n",
    "\n",
    "price_date_2 = full_df['Date'][len(full_df)-len(y_pred_future):]\n",
    "price_close_2 = y_pred_future\n",
    "plt.plot_date(price_date_2, price_close_2, linestyle='solid',color='g')"
   ]
  },
  {
   "cell_type": "markdown",
   "metadata": {},
   "source": [
    "### Looking at the plot we could see that the predictions from our model are not very accurate. One of the main reason for this could be \n",
    "### 1. lesser data points. The final multivriate time series model had only 250 data points in the train set\n",
    "### 2. Given the lesser data points, a simple logistic regression model might yield better results\n",
    "### 3. We could see that daily average sentiment score had some correlation (0.45) with the closing price. However, relying only on stock_twits for sentiment may not be giving us the actual sentiment. We should also try to include sentiment from other sources such as news headlines, twitter, etc."
   ]
  },
  {
   "cell_type": "code",
   "execution_count": null,
   "metadata": {},
   "outputs": [],
   "source": []
  }
 ],
 "metadata": {
  "kernelspec": {
   "display_name": "Python 3",
   "language": "python",
   "name": "python3"
  },
  "language_info": {
   "codemirror_mode": {
    "name": "ipython",
    "version": 3
   },
   "file_extension": ".py",
   "mimetype": "text/x-python",
   "name": "python",
   "nbconvert_exporter": "python",
   "pygments_lexer": "ipython3",
   "version": "3.8.5"
  }
 },
 "nbformat": 4,
 "nbformat_minor": 4
}
