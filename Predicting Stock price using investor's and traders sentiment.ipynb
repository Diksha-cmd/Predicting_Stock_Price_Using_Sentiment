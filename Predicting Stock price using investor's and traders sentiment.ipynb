{
 "cells": [
  {
   "cell_type": "markdown",
   "metadata": {},
   "source": [
    "# Sentiment Analysis for stock price prediction"
   ]
  },
  {
   "cell_type": "markdown",
   "metadata": {},
   "source": [
    "#### Data collection and cleaning"
   ]
  },
  {
   "cell_type": "code",
   "execution_count": 411,
   "metadata": {},
   "outputs": [
    {
     "name": "stderr",
     "output_type": "stream",
     "text": [
      "[nltk_data] Downloading package punkt to\n",
      "[nltk_data]     C:\\Users\\tiwar\\AppData\\Roaming\\nltk_data...\n",
      "[nltk_data]   Package punkt is already up-to-date!\n",
      "[nltk_data] Downloading package stopwords to\n",
      "[nltk_data]     C:\\Users\\tiwar\\AppData\\Roaming\\nltk_data...\n",
      "[nltk_data]   Package stopwords is already up-to-date!\n"
     ]
    }
   ],
   "source": [
    "%matplotlib inline\n",
    "import matplotlib.pyplot as plt\n",
    "import numpy as np\n",
    "import pandas as pd\n",
    "import emoji\n",
    "import tensorflow as tf\n",
    "from tensorflow import keras\n",
    "from tensorflow.keras import layers\n",
    "from tensorflow.keras import optimizers\n",
    "from tensorflow.keras.datasets import imdb\n",
    "from tensorflow.keras.preprocessing import sequence\n",
    "# import nltk\n",
    "from sklearn.model_selection import train_test_split\n",
    "\n",
    "import nltk\n",
    "nltk.download('punkt')\n",
    "nltk.download('stopwords')\n",
    "from nltk.corpus import stopwords"
   ]
  },
  {
   "cell_type": "code",
   "execution_count": 413,
   "metadata": {},
   "outputs": [],
   "source": [
    "from tensorflow.keras.datasets import imdb\n",
    "import pandas as pd\n",
    "import numpy as np\n",
    "from tensorflow.keras.layers import LSTM, Activation, Dropout, Dense, Input, Conv1D, MaxPooling1D, GlobalMaxPooling1D\n",
    "from tensorflow.keras.layers import Embedding\n",
    "from tensorflow.keras.models import Model\n",
    "import string\n",
    "import re\n",
    "from tensorflow.keras.preprocessing.text import Tokenizer\n",
    "from sklearn.preprocessing import LabelBinarizer\n",
    "from tensorflow.keras.preprocessing.sequence import pad_sequences\n",
    "import tensorflow.keras\n",
    "from sklearn.model_selection import train_test_split"
   ]
  },
  {
   "cell_type": "code",
   "execution_count": 414,
   "metadata": {},
   "outputs": [],
   "source": [
    "df = pd.read_csv(r'C:\\Users\\tiwar\\Downloads\\StockTwits_Mar-Jun.csv')"
   ]
  },
  {
   "cell_type": "code",
   "execution_count": 415,
   "metadata": {},
   "outputs": [
    {
     "name": "stderr",
     "output_type": "stream",
     "text": [
      "<ipython-input-415-621b8b2919f5>:3: SettingWithCopyWarning: \n",
      "A value is trying to be set on a copy of a slice from a DataFrame\n",
      "\n",
      "See the caveats in the documentation: https://pandas.pydata.org/pandas-docs/stable/user_guide/indexing.html#returning-a-view-versus-a-copy\n",
      "  data.dropna(inplace=True)\n"
     ]
    },
    {
     "data": {
      "text/plain": [
       "Bullish    51231\n",
       "Bearish    18231\n",
       "Name: senti, dtype: int64"
      ]
     },
     "execution_count": 415,
     "metadata": {},
     "output_type": "execute_result"
    }
   ],
   "source": [
    "df.drop(['Unnamed: 0','id'],axis=1,inplace=True)\n",
    "data = df[df['senti']!=\" \"]\n",
    "data.dropna(inplace=True)\n",
    "data['senti'].value_counts()"
   ]
  },
  {
   "cell_type": "markdown",
   "metadata": {},
   "source": [
    "#Cleaning the data"
   ]
  },
  {
   "cell_type": "code",
   "execution_count": 416,
   "metadata": {},
   "outputs": [],
   "source": [
    "def cleaned_text(data):\n",
    "    data.dropna(inplace=True)\n",
    "\n",
    "    def de_emojify(string):\n",
    "        tweet = emoji.demojize(string)\n",
    "        tweet = tweet.replace(\":\", \" \")\n",
    "        tweet = ' '.join(tweet.split())\n",
    "        return tweet\n",
    "\n",
    "    def remove_urls(vTEXT):\n",
    "        vTEXT = re.sub(r'(https|http)?:\\/\\/(\\w|\\.|\\/|\\?|\\=|\\&|\\%)*\\b', '', vTEXT, flags=re.MULTILINE)\n",
    "        return (vTEXT)\n",
    "\n",
    "    def remove_tags(string):\n",
    "        result = re.sub('<.*?>', '', string)\n",
    "        return result\n",
    "\n",
    "    def remove_tags1(string):\n",
    "        result = re.sub(r'[^\\w\\s]', ' ', string)\n",
    "        return result\n",
    "\n",
    "    def remove_punctuations(string):\n",
    "        result = ' '.join(re.sub(r\"[\\.\\,\\!\\?\\:\\;\\-\\=]\", \" \", string).split())\n",
    "        return result\n",
    "\n",
    "    data['body'] = data['body'].apply(lambda cw: de_emojify(cw))\n",
    "    data['length'] = data['body'].apply(lambda x: len(x.split()))\n",
    "    data['body'] = data['body'].apply(lambda cw: remove_tags(cw))\n",
    "    data['body']= data['body'].apply(lambda cw : remove_tags1(cw))\n",
    "    data['body'] = data['body'].apply(lambda cw: remove_punctuations(cw))\n",
    "    data.dropna(inplace=True)\n",
    "    data['body'] = data['body'].str.lower()\n",
    "    data['tokenized body'] = data['body'].apply(nltk.word_tokenize).tolist()\n",
    "    data = data[data['length']>3]\n",
    "    data['body'] = data['body'].apply(lambda x:x.replace('AAPL',''))\n",
    "    return data"
   ]
  },
  {
   "cell_type": "code",
   "execution_count": 417,
   "metadata": {},
   "outputs": [
    {
     "name": "stderr",
     "output_type": "stream",
     "text": [
      "<ipython-input-416-27ad528c28bc>:2: SettingWithCopyWarning: \n",
      "A value is trying to be set on a copy of a slice from a DataFrame\n",
      "\n",
      "See the caveats in the documentation: https://pandas.pydata.org/pandas-docs/stable/user_guide/indexing.html#returning-a-view-versus-a-copy\n",
      "  data.dropna(inplace=True)\n",
      "<ipython-input-416-27ad528c28bc>:26: SettingWithCopyWarning: \n",
      "A value is trying to be set on a copy of a slice from a DataFrame.\n",
      "Try using .loc[row_indexer,col_indexer] = value instead\n",
      "\n",
      "See the caveats in the documentation: https://pandas.pydata.org/pandas-docs/stable/user_guide/indexing.html#returning-a-view-versus-a-copy\n",
      "  data['body'] = data['body'].apply(lambda cw: de_emojify(cw))\n",
      "<ipython-input-416-27ad528c28bc>:27: SettingWithCopyWarning: \n",
      "A value is trying to be set on a copy of a slice from a DataFrame.\n",
      "Try using .loc[row_indexer,col_indexer] = value instead\n",
      "\n",
      "See the caveats in the documentation: https://pandas.pydata.org/pandas-docs/stable/user_guide/indexing.html#returning-a-view-versus-a-copy\n",
      "  data['length'] = data['body'].apply(lambda x: len(x.split()))\n",
      "<ipython-input-416-27ad528c28bc>:28: SettingWithCopyWarning: \n",
      "A value is trying to be set on a copy of a slice from a DataFrame.\n",
      "Try using .loc[row_indexer,col_indexer] = value instead\n",
      "\n",
      "See the caveats in the documentation: https://pandas.pydata.org/pandas-docs/stable/user_guide/indexing.html#returning-a-view-versus-a-copy\n",
      "  data['body'] = data['body'].apply(lambda cw: remove_tags(cw))\n",
      "<ipython-input-416-27ad528c28bc>:29: SettingWithCopyWarning: \n",
      "A value is trying to be set on a copy of a slice from a DataFrame.\n",
      "Try using .loc[row_indexer,col_indexer] = value instead\n",
      "\n",
      "See the caveats in the documentation: https://pandas.pydata.org/pandas-docs/stable/user_guide/indexing.html#returning-a-view-versus-a-copy\n",
      "  data['body']= data['body'].apply(lambda cw : remove_tags1(cw))\n",
      "<ipython-input-416-27ad528c28bc>:30: SettingWithCopyWarning: \n",
      "A value is trying to be set on a copy of a slice from a DataFrame.\n",
      "Try using .loc[row_indexer,col_indexer] = value instead\n",
      "\n",
      "See the caveats in the documentation: https://pandas.pydata.org/pandas-docs/stable/user_guide/indexing.html#returning-a-view-versus-a-copy\n",
      "  data['body'] = data['body'].apply(lambda cw: remove_punctuations(cw))\n",
      "<ipython-input-416-27ad528c28bc>:31: SettingWithCopyWarning: \n",
      "A value is trying to be set on a copy of a slice from a DataFrame\n",
      "\n",
      "See the caveats in the documentation: https://pandas.pydata.org/pandas-docs/stable/user_guide/indexing.html#returning-a-view-versus-a-copy\n",
      "  data.dropna(inplace=True)\n",
      "<ipython-input-416-27ad528c28bc>:32: SettingWithCopyWarning: \n",
      "A value is trying to be set on a copy of a slice from a DataFrame.\n",
      "Try using .loc[row_indexer,col_indexer] = value instead\n",
      "\n",
      "See the caveats in the documentation: https://pandas.pydata.org/pandas-docs/stable/user_guide/indexing.html#returning-a-view-versus-a-copy\n",
      "  data['body'] = data['body'].str.lower()\n",
      "<ipython-input-416-27ad528c28bc>:33: SettingWithCopyWarning: \n",
      "A value is trying to be set on a copy of a slice from a DataFrame.\n",
      "Try using .loc[row_indexer,col_indexer] = value instead\n",
      "\n",
      "See the caveats in the documentation: https://pandas.pydata.org/pandas-docs/stable/user_guide/indexing.html#returning-a-view-versus-a-copy\n",
      "  data['tokenized body'] = data['body'].apply(nltk.word_tokenize).tolist()\n",
      "<ipython-input-416-27ad528c28bc>:35: SettingWithCopyWarning: \n",
      "A value is trying to be set on a copy of a slice from a DataFrame.\n",
      "Try using .loc[row_indexer,col_indexer] = value instead\n",
      "\n",
      "See the caveats in the documentation: https://pandas.pydata.org/pandas-docs/stable/user_guide/indexing.html#returning-a-view-versus-a-copy\n",
      "  data['body'] = data['body'].apply(lambda x:x.replace('AAPL',''))\n"
     ]
    },
    {
     "data": {
      "text/html": [
       "<div>\n",
       "<style scoped>\n",
       "    .dataframe tbody tr th:only-of-type {\n",
       "        vertical-align: middle;\n",
       "    }\n",
       "\n",
       "    .dataframe tbody tr th {\n",
       "        vertical-align: top;\n",
       "    }\n",
       "\n",
       "    .dataframe thead th {\n",
       "        text-align: right;\n",
       "    }\n",
       "</style>\n",
       "<table border=\"1\" class=\"dataframe\">\n",
       "  <thead>\n",
       "    <tr style=\"text-align: right;\">\n",
       "      <th></th>\n",
       "      <th>created_at</th>\n",
       "      <th>body</th>\n",
       "      <th>senti</th>\n",
       "      <th>length</th>\n",
       "      <th>tokenized body</th>\n",
       "    </tr>\n",
       "  </thead>\n",
       "  <tbody>\n",
       "    <tr>\n",
       "      <th>0</th>\n",
       "      <td>2021-03-04 22:41:36+00:00</td>\n",
       "      <td>aapl people please get serious on your pt s wi...</td>\n",
       "      <td>Bullish</td>\n",
       "      <td>53</td>\n",
       "      <td>[aapl, people, please, get, serious, on, your,...</td>\n",
       "    </tr>\n",
       "    <tr>\n",
       "      <th>1</th>\n",
       "      <td>2021-03-04 22:42:50+00:00</td>\n",
       "      <td>aapl daily divergence on the daily will it rev...</td>\n",
       "      <td>Bullish</td>\n",
       "      <td>18</td>\n",
       "      <td>[aapl, daily, divergence, on, the, daily, will...</td>\n",
       "    </tr>\n",
       "    <tr>\n",
       "      <th>2</th>\n",
       "      <td>2021-03-04 22:43:08+00:00</td>\n",
       "      <td>aapl watch video if you want to know what this...</td>\n",
       "      <td>Bullish</td>\n",
       "      <td>18</td>\n",
       "      <td>[aapl, watch, video, if, you, want, to, know, ...</td>\n",
       "    </tr>\n",
       "    <tr>\n",
       "      <th>5</th>\n",
       "      <td>2021-03-04 22:43:47+00:00</td>\n",
       "      <td>aapl yo man 150 pt</td>\n",
       "      <td>Bullish</td>\n",
       "      <td>5</td>\n",
       "      <td>[aapl, yo, man, 150, pt]</td>\n",
       "    </tr>\n",
       "    <tr>\n",
       "      <th>8</th>\n",
       "      <td>2021-03-04 22:45:05+00:00</td>\n",
       "      <td>aapl i demand free housing in the spaceship to...</td>\n",
       "      <td>Bullish</td>\n",
       "      <td>17</td>\n",
       "      <td>[aapl, i, demand, free, housing, in, the, spac...</td>\n",
       "    </tr>\n",
       "  </tbody>\n",
       "</table>\n",
       "</div>"
      ],
      "text/plain": [
       "                  created_at  \\\n",
       "0  2021-03-04 22:41:36+00:00   \n",
       "1  2021-03-04 22:42:50+00:00   \n",
       "2  2021-03-04 22:43:08+00:00   \n",
       "5  2021-03-04 22:43:47+00:00   \n",
       "8  2021-03-04 22:45:05+00:00   \n",
       "\n",
       "                                                body    senti  length  \\\n",
       "0  aapl people please get serious on your pt s wi...  Bullish      53   \n",
       "1  aapl daily divergence on the daily will it rev...  Bullish      18   \n",
       "2  aapl watch video if you want to know what this...  Bullish      18   \n",
       "5                                 aapl yo man 150 pt  Bullish       5   \n",
       "8  aapl i demand free housing in the spaceship to...  Bullish      17   \n",
       "\n",
       "                                      tokenized body  \n",
       "0  [aapl, people, please, get, serious, on, your,...  \n",
       "1  [aapl, daily, divergence, on, the, daily, will...  \n",
       "2  [aapl, watch, video, if, you, want, to, know, ...  \n",
       "5                           [aapl, yo, man, 150, pt]  \n",
       "8  [aapl, i, demand, free, housing, in, the, spac...  "
      ]
     },
     "execution_count": 417,
     "metadata": {},
     "output_type": "execute_result"
    }
   ],
   "source": [
    "data_1 = cleaned_text(data)\n",
    "data_1.head()"
   ]
  },
  {
   "cell_type": "code",
   "execution_count": 418,
   "metadata": {},
   "outputs": [
    {
     "data": {
      "text/plain": [
       "(array(['Bearish', 'Bullish'], dtype=object), array([3347, 9366], dtype=int64))"
      ]
     },
     "execution_count": 418,
     "metadata": {},
     "output_type": "execute_result"
    }
   ],
   "source": [
    "reviews_tokenized = data_1['body'].apply(nltk.word_tokenize).tolist()\n",
    "X_train, X_test,Y_train, Y_test = train_test_split(reviews_tokenized, data_1['senti'], test_size=0.2, random_state = 45)\n",
    "np.unique(Y_test,return_counts=True)"
   ]
  },
  {
   "cell_type": "code",
   "execution_count": 419,
   "metadata": {},
   "outputs": [],
   "source": [
    "Y_train = np.array(list(map(lambda x: 1 if x==\"Bullish\" else 0, Y_train)))\n",
    "Y_test = np.array(list(map(lambda x: 1 if x==\"Bullish\" else 0, Y_test)))"
   ]
  },
  {
   "cell_type": "code",
   "execution_count": 420,
   "metadata": {},
   "outputs": [],
   "source": [
    "def get_tokenizer(data):\n",
    "    data = np.array(data, dtype=object)\n",
    "    tokenizer = Tokenizer(num_words=20000)\n",
    "    tokenizer.fit_on_texts(data)\n",
    "    return tokenizer"
   ]
  },
  {
   "cell_type": "code",
   "execution_count": 421,
   "metadata": {},
   "outputs": [],
   "source": [
    "tokenizer = get_tokenizer(X_train)"
   ]
  },
  {
   "cell_type": "code",
   "execution_count": 422,
   "metadata": {},
   "outputs": [],
   "source": [
    "words_to_index = tokenizer.word_index\n",
    "maxLen = 80"
   ]
  },
  {
   "cell_type": "code",
   "execution_count": 423,
   "metadata": {},
   "outputs": [],
   "source": [
    "max_features = 20000\n",
    "# cut texts after this number of words (among top max_features most common words)\n",
    "batch_size = 32"
   ]
  },
  {
   "cell_type": "code",
   "execution_count": 424,
   "metadata": {},
   "outputs": [],
   "source": [
    "####LSTM\n",
    "model = keras.Sequential()\n",
    "#Embedding layer turns vectors of integers into dense real vectors of fixed size\n",
    "#model.add(layers.Embedding(embedding_matrix_ft.shape[0], embedding_matrix_ft.shape[1],weights=[embedding_matrix_ft], input_length=maxLen))\n",
    "model.add(layers.Embedding(max_features, 32))\n",
    "model.add(layers.LSTM(128, dropout=0.2, recurrent_dropout=0.2))\n",
    "\n",
    "model.add(layers.Dense(1, activation='sigmoid', kernel_regularizer='l2'))\n",
    "\n",
    "optimizer = optimizers.Adam(learning_rate=0.0001)\n",
    "model.compile(loss='binary_crossentropy',\n",
    "              optimizer=optimizer,\n",
    "              metrics=['accuracy'])"
   ]
  },
  {
   "cell_type": "code",
   "execution_count": 425,
   "metadata": {},
   "outputs": [],
   "source": [
    "def get_data_for_model_prediction (text, tokenizer):\n",
    "    X_test_indices = tokenizer.texts_to_sequences(text)\n",
    "    X_test_indices = pad_sequences(X_test_indices, maxlen=maxLen, padding='post')\n",
    "    return X_test_indices"
   ]
  },
  {
   "cell_type": "code",
   "execution_count": 426,
   "metadata": {},
   "outputs": [],
   "source": [
    "X_train_indices = get_data_for_model_prediction(X_train,tokenizer)\n",
    "X_train_indices.shape\n",
    "X_test_indices = get_data_for_model_prediction(X_test,tokenizer)"
   ]
  },
  {
   "cell_type": "code",
   "execution_count": 427,
   "metadata": {},
   "outputs": [
    {
     "name": "stdout",
     "output_type": "stream",
     "text": [
      "Epoch 1/64\n",
      "159/159 [==============================] - 84s 531ms/step - loss: 0.6156 - accuracy: 0.7418 - val_loss: 0.5959 - val_accuracy: 0.7357\n",
      "Epoch 2/64\n",
      "159/159 [==============================] - 87s 546ms/step - loss: 0.5877 - accuracy: 0.7420 - val_loss: 0.5917 - val_accuracy: 0.7357\n",
      "Epoch 3/64\n",
      "159/159 [==============================] - 86s 541ms/step - loss: 0.5835 - accuracy: 0.7420 - val_loss: 0.5874 - val_accuracy: 0.7357\n",
      "Epoch 4/64\n",
      "159/159 [==============================] - 91s 570ms/step - loss: 0.5770 - accuracy: 0.7427 - val_loss: 0.5544 - val_accuracy: 0.7384\n",
      "Epoch 5/64\n",
      "159/159 [==============================] - 87s 550ms/step - loss: 0.4549 - accuracy: 0.8002 - val_loss: 0.4179 - val_accuracy: 0.8237\n",
      "Epoch 6/64\n",
      "159/159 [==============================] - 85s 536ms/step - loss: 0.3782 - accuracy: 0.8426 - val_loss: 0.3861 - val_accuracy: 0.8359\n",
      "Epoch 7/64\n",
      "159/159 [==============================] - 90s 567ms/step - loss: 0.3497 - accuracy: 0.8568 - val_loss: 0.3857 - val_accuracy: 0.8407\n",
      "Epoch 8/64\n",
      "159/159 [==============================] - 86s 540ms/step - loss: 0.3318 - accuracy: 0.8648 - val_loss: 0.3788 - val_accuracy: 0.8421\n",
      "Epoch 9/64\n",
      "159/159 [==============================] - 86s 539ms/step - loss: 0.3172 - accuracy: 0.8716 - val_loss: 0.3731 - val_accuracy: 0.8453\n",
      "Epoch 10/64\n",
      "159/159 [==============================] - 87s 549ms/step - loss: 0.3069 - accuracy: 0.8772 - val_loss: 0.3742 - val_accuracy: 0.8442\n",
      "Epoch 11/64\n",
      "159/159 [==============================] - 88s 554ms/step - loss: 0.2976 - accuracy: 0.8813 - val_loss: 0.3847 - val_accuracy: 0.8450\n"
     ]
    },
    {
     "data": {
      "text/plain": [
       "<tensorflow.python.keras.callbacks.History at 0x2666529c370>"
      ]
     },
     "execution_count": 427,
     "metadata": {},
     "output_type": "execute_result"
    }
   ],
   "source": [
    "EPOCHS = 64\n",
    "BATCH = 256\n",
    "\n",
    "early_stop = keras.callbacks.EarlyStopping(monitor='val_loss', patience=2)\n",
    "\n",
    "model.fit(X_train_indices, Y_train,\n",
    "          batch_size=BATCH,\n",
    "          epochs=EPOCHS,\n",
    "          validation_split=0.2,\n",
    "          verbose = 1,\n",
    "          callbacks = [early_stop])"
   ]
  },
  {
   "cell_type": "markdown",
   "metadata": {},
   "source": [
    "# Results on test data"
   ]
  },
  {
   "cell_type": "code",
   "execution_count": 432,
   "metadata": {},
   "outputs": [
    {
     "name": "stdout",
     "output_type": "stream",
     "text": [
      "Testing set accuracy: 84.76%\n"
     ]
    }
   ],
   "source": [
    "_, acc = model.evaluate(X_test_indices, Y_test, batch_size=64, verbose = 0)\n",
    "print(\"Testing set accuracy: {:.2f}%\".format(acc*100))"
   ]
  },
  {
   "cell_type": "markdown",
   "metadata": {},
   "source": [
    "# # Sentiment Prediction"
   ]
  },
  {
   "cell_type": "code",
   "execution_count": 433,
   "metadata": {},
   "outputs": [],
   "source": [
    "df = pd.read_csv(r'C:\\Users\\tiwar\\Downloads\\StockteTwits_AAPl_1.csv')"
   ]
  },
  {
   "cell_type": "code",
   "execution_count": 430,
   "metadata": {},
   "outputs": [],
   "source": [
    "df.drop(['Unnamed: 0','id'],axis=1,inplace=True)"
   ]
  },
  {
   "cell_type": "code",
   "execution_count": 431,
   "metadata": {},
   "outputs": [
    {
     "name": "stderr",
     "output_type": "stream",
     "text": [
      "<ipython-input-416-27ad528c28bc>:35: SettingWithCopyWarning: \n",
      "A value is trying to be set on a copy of a slice from a DataFrame.\n",
      "Try using .loc[row_indexer,col_indexer] = value instead\n",
      "\n",
      "See the caveats in the documentation: https://pandas.pydata.org/pandas-docs/stable/user_guide/indexing.html#returning-a-view-versus-a-copy\n",
      "  data['body'] = data['body'].apply(lambda x:x.replace('AAPL',''))\n"
     ]
    }
   ],
   "source": [
    "df_new = cleaned_text(df)"
   ]
  },
  {
   "cell_type": "code",
   "execution_count": 434,
   "metadata": {},
   "outputs": [],
   "source": [
    "cleaned_data = df_new['body']\n",
    "data_for_prediction = get_data_for_model_prediction(cleaned_data, tokenizer)\n",
    "prediction = model.predict(data_for_prediction, batch_size=64)\n",
    "df_new['score'] = prediction\n",
    "#df['senti'] = df['senti'].str.replace('Bearish','negative')\n",
    "#df['senti'] = df['senti'].str.replace('Bullish','positive')"
   ]
  },
  {
   "cell_type": "code",
   "execution_count": 436,
   "metadata": {},
   "outputs": [],
   "source": [
    "df_test = df_new[df_new['senti']!=\" \"]"
   ]
  },
  {
   "cell_type": "markdown",
   "metadata": {},
   "source": [
    "## Testing on 1 year data"
   ]
  },
  {
   "cell_type": "code",
   "execution_count": 437,
   "metadata": {},
   "outputs": [
    {
     "name": "stderr",
     "output_type": "stream",
     "text": [
      "<ipython-input-437-048f58f155c8>:1: SettingWithCopyWarning: \n",
      "A value is trying to be set on a copy of a slice from a DataFrame.\n",
      "Try using .loc[row_indexer,col_indexer] = value instead\n",
      "\n",
      "See the caveats in the documentation: https://pandas.pydata.org/pandas-docs/stable/user_guide/indexing.html#returning-a-view-versus-a-copy\n",
      "  df_test['label'] = np.array(list(map(lambda x : 'Bullish' if x > 0.50 else 'Bearish',df_test['score'])))\n"
     ]
    },
    {
     "data": {
      "text/plain": [
       "0.8405037637521714"
      ]
     },
     "execution_count": 437,
     "metadata": {},
     "output_type": "execute_result"
    }
   ],
   "source": [
    "df_test['label'] = np.array(list(map(lambda x : 'Bullish' if x > 0.50 else 'Bearish',df_test['score'])))\n",
    "df_test['label'].head()\n",
    "df_test['senti'].head()\n",
    "import sklearn\n",
    "sklearn.metrics.accuracy_score(df_test['senti'], df_test['label'])"
   ]
  },
  {
   "cell_type": "code",
   "execution_count": 438,
   "metadata": {},
   "outputs": [],
   "source": [
    "df_new['senti_true'] = df_new['senti']\n",
    "df_new['senti'] = np.array(list(map(lambda x : 'positive' if x > 0.50 else 'negative',df_new['score'])))"
   ]
  },
  {
   "cell_type": "markdown",
   "metadata": {},
   "source": [
    "# #Aggregating data on daliy level"
   ]
  },
  {
   "cell_type": "code",
   "execution_count": 440,
   "metadata": {},
   "outputs": [
    {
     "name": "stderr",
     "output_type": "stream",
     "text": [
      "<ipython-input-440-688c1ba50b28>:28: SettingWithCopyWarning: \n",
      "A value is trying to be set on a copy of a slice from a DataFrame\n",
      "\n",
      "See the caveats in the documentation: https://pandas.pydata.org/pandas-docs/stable/user_guide/indexing.html#returning-a-view-versus-a-copy\n",
      "  df_final['body'][i] = df_test_2['body'][i] + df_test['body'][i]\n"
     ]
    }
   ],
   "source": [
    "import datetime\n",
    "df_new['created_at'] = df_new['created_at'].apply(lambda x:datetime.datetime.strptime(x, '%Y-%m-%d %H:%M:%S+00:00'))\n",
    "df_new['Hour'] = df_new['created_at'].apply(lambda x:x.hour)\n",
    "df_new['Month'] = df_new['created_at'].apply(lambda x:x.month)\n",
    "df_new['Year'] = df_new['created_at'].apply(lambda x:x.year)\n",
    "df_new['weekday'] = df_new['created_at'].apply(lambda x: x.weekday())\n",
    "df_new['day'] = df_new['created_at'].apply(lambda x: x.day)\n",
    "df_new['Date'] = pd.to_datetime(df['created_at']).dt.date\n",
    "\n",
    "\n",
    "df_current = df_new[ (df_new['Hour'] < 16)]\n",
    "df_current_2 = df_new[(df_new['Hour'] > 16)]\n",
    "\n",
    "df_pos_1 = df_current[(df_current['senti']=='positive')]\n",
    "df_pos_1 = df_pos_1.groupby(['Year','Month','day','weekday','Date'])['body'].count().reset_index()\n",
    "df_pos_2 = df_current_2[(df_current_2['senti']=='positive')]\n",
    "df_pos_2 = df_pos_2.groupby(['Year','Month','day','weekday','Date'])['body'].count().reset_index()\n",
    "\n",
    "df_test = df_current.groupby(['Year','Month','day','weekday','Date'])['body'].count().reset_index()\n",
    "df_final = df_test.copy(deep=True)\n",
    "df_test_2 = df_current_2.groupby(['Year','Month','day','weekday','Date'])['body'].count().reset_index()\n",
    "df_sum = df_current.groupby(['Year','Month','day','weekday','Date'])['score'].sum().reset_index()\n",
    "df_sum_2 = df_current_2.groupby(['Year','Month','day','weekday','Date'])['score'].sum().reset_index()\n",
    "total_sum =[]\n",
    "count =0\n",
    "pos_count =[]\n",
    "for i in range(len(df_test)):\n",
    "    df_final['body'][i] = df_test_2['body'][i] + df_test['body'][i]\n",
    "    total_sum.append(df_sum_2['score'][i] + df_sum['score'][i])\n",
    "    pos_count.append(df_pos_2['body'][i] + df_pos_1['body'][i])\n",
    "\n",
    "df_final['total_score'] = total_sum\n",
    "df_final['average_score'] = df_final['total_score']/df_final['body']\n",
    "df_final['pos_count'] = pos_count"
   ]
  },
  {
   "cell_type": "code",
   "execution_count": 441,
   "metadata": {},
   "outputs": [
    {
     "data": {
      "text/html": [
       "<div>\n",
       "<style scoped>\n",
       "    .dataframe tbody tr th:only-of-type {\n",
       "        vertical-align: middle;\n",
       "    }\n",
       "\n",
       "    .dataframe tbody tr th {\n",
       "        vertical-align: top;\n",
       "    }\n",
       "\n",
       "    .dataframe thead th {\n",
       "        text-align: right;\n",
       "    }\n",
       "</style>\n",
       "<table border=\"1\" class=\"dataframe\">\n",
       "  <thead>\n",
       "    <tr style=\"text-align: right;\">\n",
       "      <th></th>\n",
       "      <th>Year</th>\n",
       "      <th>Month</th>\n",
       "      <th>day</th>\n",
       "      <th>weekday</th>\n",
       "      <th>Date</th>\n",
       "      <th>body</th>\n",
       "      <th>total_score</th>\n",
       "      <th>average_score</th>\n",
       "      <th>pos_count</th>\n",
       "      <th>pos_prop</th>\n",
       "    </tr>\n",
       "  </thead>\n",
       "  <tbody>\n",
       "    <tr>\n",
       "      <th>0</th>\n",
       "      <td>2020</td>\n",
       "      <td>6</td>\n",
       "      <td>17</td>\n",
       "      <td>2</td>\n",
       "      <td>2020-06-17</td>\n",
       "      <td>619</td>\n",
       "      <td>486.633606</td>\n",
       "      <td>0.786161</td>\n",
       "      <td>519</td>\n",
       "      <td>0.838449</td>\n",
       "    </tr>\n",
       "    <tr>\n",
       "      <th>1</th>\n",
       "      <td>2020</td>\n",
       "      <td>6</td>\n",
       "      <td>18</td>\n",
       "      <td>3</td>\n",
       "      <td>2020-06-18</td>\n",
       "      <td>765</td>\n",
       "      <td>569.742188</td>\n",
       "      <td>0.744761</td>\n",
       "      <td>614</td>\n",
       "      <td>0.802614</td>\n",
       "    </tr>\n",
       "    <tr>\n",
       "      <th>2</th>\n",
       "      <td>2020</td>\n",
       "      <td>6</td>\n",
       "      <td>19</td>\n",
       "      <td>4</td>\n",
       "      <td>2020-06-19</td>\n",
       "      <td>600</td>\n",
       "      <td>444.131714</td>\n",
       "      <td>0.740220</td>\n",
       "      <td>470</td>\n",
       "      <td>0.783333</td>\n",
       "    </tr>\n",
       "    <tr>\n",
       "      <th>3</th>\n",
       "      <td>2020</td>\n",
       "      <td>6</td>\n",
       "      <td>20</td>\n",
       "      <td>5</td>\n",
       "      <td>2020-06-20</td>\n",
       "      <td>722</td>\n",
       "      <td>540.997009</td>\n",
       "      <td>0.749303</td>\n",
       "      <td>564</td>\n",
       "      <td>0.781163</td>\n",
       "    </tr>\n",
       "    <tr>\n",
       "      <th>4</th>\n",
       "      <td>2020</td>\n",
       "      <td>6</td>\n",
       "      <td>21</td>\n",
       "      <td>6</td>\n",
       "      <td>2020-06-21</td>\n",
       "      <td>251</td>\n",
       "      <td>187.757950</td>\n",
       "      <td>0.748040</td>\n",
       "      <td>194</td>\n",
       "      <td>0.772908</td>\n",
       "    </tr>\n",
       "  </tbody>\n",
       "</table>\n",
       "</div>"
      ],
      "text/plain": [
       "   Year  Month  day  weekday        Date  body  total_score  average_score  \\\n",
       "0  2020      6   17        2  2020-06-17   619   486.633606       0.786161   \n",
       "1  2020      6   18        3  2020-06-18   765   569.742188       0.744761   \n",
       "2  2020      6   19        4  2020-06-19   600   444.131714       0.740220   \n",
       "3  2020      6   20        5  2020-06-20   722   540.997009       0.749303   \n",
       "4  2020      6   21        6  2020-06-21   251   187.757950       0.748040   \n",
       "\n",
       "   pos_count  pos_prop  \n",
       "0        519  0.838449  \n",
       "1        614  0.802614  \n",
       "2        470  0.783333  \n",
       "3        564  0.781163  \n",
       "4        194  0.772908  "
      ]
     },
     "execution_count": 441,
     "metadata": {},
     "output_type": "execute_result"
    }
   ],
   "source": [
    "df_final['pos_prop'] = df_final['pos_count']/df_final['body']\n",
    "df_final.head()"
   ]
  },
  {
   "cell_type": "markdown",
   "metadata": {},
   "source": [
    "# Importing Stocks data"
   ]
  },
  {
   "cell_type": "code",
   "execution_count": 442,
   "metadata": {},
   "outputs": [],
   "source": [
    "stocks_info = pd.read_csv(r'C:\\Users\\tiwar\\Downloads\\tickerdf.csv')"
   ]
  },
  {
   "cell_type": "code",
   "execution_count": 443,
   "metadata": {},
   "outputs": [],
   "source": [
    "stocks_info['Date'] = pd.to_datetime(stocks_info['Date'], infer_datetime_format=False).dt.date"
   ]
  },
  {
   "cell_type": "code",
   "execution_count": 444,
   "metadata": {},
   "outputs": [
    {
     "data": {
      "text/plain": [
       "datetime.date"
      ]
     },
     "execution_count": 444,
     "metadata": {},
     "output_type": "execute_result"
    }
   ],
   "source": [
    "type(stocks_info['Date'][0])"
   ]
  },
  {
   "cell_type": "code",
   "execution_count": 445,
   "metadata": {},
   "outputs": [
    {
     "data": {
      "text/plain": [
       "311"
      ]
     },
     "execution_count": 445,
     "metadata": {},
     "output_type": "execute_result"
    }
   ],
   "source": [
    "len(df_final)"
   ]
  },
  {
   "cell_type": "markdown",
   "metadata": {},
   "source": [
    "# Merging stocks and sentiment data for final analysis and prediction"
   ]
  },
  {
   "cell_type": "code",
   "execution_count": 446,
   "metadata": {},
   "outputs": [],
   "source": [
    "df_final = df_final.merge(stocks_info,how = 'outer',left_on='Date', right_on='Date')"
   ]
  },
  {
   "cell_type": "code",
   "execution_count": 447,
   "metadata": {},
   "outputs": [
    {
     "data": {
      "text/html": [
       "<div>\n",
       "<style scoped>\n",
       "    .dataframe tbody tr th:only-of-type {\n",
       "        vertical-align: middle;\n",
       "    }\n",
       "\n",
       "    .dataframe tbody tr th {\n",
       "        vertical-align: top;\n",
       "    }\n",
       "\n",
       "    .dataframe thead th {\n",
       "        text-align: right;\n",
       "    }\n",
       "</style>\n",
       "<table border=\"1\" class=\"dataframe\">\n",
       "  <thead>\n",
       "    <tr style=\"text-align: right;\">\n",
       "      <th></th>\n",
       "      <th>Year</th>\n",
       "      <th>Month</th>\n",
       "      <th>day</th>\n",
       "      <th>weekday</th>\n",
       "      <th>Date</th>\n",
       "      <th>body</th>\n",
       "      <th>total_score</th>\n",
       "      <th>average_score</th>\n",
       "      <th>pos_count</th>\n",
       "      <th>pos_prop</th>\n",
       "      <th>Open</th>\n",
       "      <th>High</th>\n",
       "      <th>Low</th>\n",
       "      <th>Close</th>\n",
       "      <th>Volume</th>\n",
       "      <th>Dividends</th>\n",
       "      <th>Stock Splits</th>\n",
       "    </tr>\n",
       "  </thead>\n",
       "  <tbody>\n",
       "    <tr>\n",
       "      <th>0</th>\n",
       "      <td>2020</td>\n",
       "      <td>6</td>\n",
       "      <td>17</td>\n",
       "      <td>2</td>\n",
       "      <td>2020-06-17</td>\n",
       "      <td>619</td>\n",
       "      <td>486.633606</td>\n",
       "      <td>0.786161</td>\n",
       "      <td>519</td>\n",
       "      <td>0.838449</td>\n",
       "      <td>88.193247</td>\n",
       "      <td>88.255328</td>\n",
       "      <td>87.185041</td>\n",
       "      <td>87.309204</td>\n",
       "      <td>114406400.0</td>\n",
       "      <td>0.0</td>\n",
       "      <td>0.0</td>\n",
       "    </tr>\n",
       "    <tr>\n",
       "      <th>1</th>\n",
       "      <td>2020</td>\n",
       "      <td>6</td>\n",
       "      <td>18</td>\n",
       "      <td>3</td>\n",
       "      <td>2020-06-18</td>\n",
       "      <td>765</td>\n",
       "      <td>569.742188</td>\n",
       "      <td>0.744761</td>\n",
       "      <td>614</td>\n",
       "      <td>0.802614</td>\n",
       "      <td>87.264512</td>\n",
       "      <td>87.771101</td>\n",
       "      <td>86.720676</td>\n",
       "      <td>87.343979</td>\n",
       "      <td>96820400.0</td>\n",
       "      <td>0.0</td>\n",
       "      <td>0.0</td>\n",
       "    </tr>\n",
       "    <tr>\n",
       "      <th>2</th>\n",
       "      <td>2020</td>\n",
       "      <td>6</td>\n",
       "      <td>19</td>\n",
       "      <td>4</td>\n",
       "      <td>2020-06-19</td>\n",
       "      <td>600</td>\n",
       "      <td>444.131714</td>\n",
       "      <td>0.740220</td>\n",
       "      <td>470</td>\n",
       "      <td>0.783333</td>\n",
       "      <td>88.066604</td>\n",
       "      <td>88.543387</td>\n",
       "      <td>85.709978</td>\n",
       "      <td>86.844833</td>\n",
       "      <td>264476000.0</td>\n",
       "      <td>0.0</td>\n",
       "      <td>0.0</td>\n",
       "    </tr>\n",
       "    <tr>\n",
       "      <th>3</th>\n",
       "      <td>2020</td>\n",
       "      <td>6</td>\n",
       "      <td>20</td>\n",
       "      <td>5</td>\n",
       "      <td>2020-06-20</td>\n",
       "      <td>722</td>\n",
       "      <td>540.997009</td>\n",
       "      <td>0.749303</td>\n",
       "      <td>564</td>\n",
       "      <td>0.781163</td>\n",
       "      <td>NaN</td>\n",
       "      <td>NaN</td>\n",
       "      <td>NaN</td>\n",
       "      <td>NaN</td>\n",
       "      <td>NaN</td>\n",
       "      <td>NaN</td>\n",
       "      <td>NaN</td>\n",
       "    </tr>\n",
       "    <tr>\n",
       "      <th>4</th>\n",
       "      <td>2020</td>\n",
       "      <td>6</td>\n",
       "      <td>21</td>\n",
       "      <td>6</td>\n",
       "      <td>2020-06-21</td>\n",
       "      <td>251</td>\n",
       "      <td>187.757950</td>\n",
       "      <td>0.748040</td>\n",
       "      <td>194</td>\n",
       "      <td>0.772908</td>\n",
       "      <td>NaN</td>\n",
       "      <td>NaN</td>\n",
       "      <td>NaN</td>\n",
       "      <td>NaN</td>\n",
       "      <td>NaN</td>\n",
       "      <td>NaN</td>\n",
       "      <td>NaN</td>\n",
       "    </tr>\n",
       "  </tbody>\n",
       "</table>\n",
       "</div>"
      ],
      "text/plain": [
       "   Year  Month  day  weekday        Date  body  total_score  average_score  \\\n",
       "0  2020      6   17        2  2020-06-17   619   486.633606       0.786161   \n",
       "1  2020      6   18        3  2020-06-18   765   569.742188       0.744761   \n",
       "2  2020      6   19        4  2020-06-19   600   444.131714       0.740220   \n",
       "3  2020      6   20        5  2020-06-20   722   540.997009       0.749303   \n",
       "4  2020      6   21        6  2020-06-21   251   187.757950       0.748040   \n",
       "\n",
       "   pos_count  pos_prop       Open       High        Low      Close  \\\n",
       "0        519  0.838449  88.193247  88.255328  87.185041  87.309204   \n",
       "1        614  0.802614  87.264512  87.771101  86.720676  87.343979   \n",
       "2        470  0.783333  88.066604  88.543387  85.709978  86.844833   \n",
       "3        564  0.781163        NaN        NaN        NaN        NaN   \n",
       "4        194  0.772908        NaN        NaN        NaN        NaN   \n",
       "\n",
       "        Volume  Dividends  Stock Splits  \n",
       "0  114406400.0        0.0           0.0  \n",
       "1   96820400.0        0.0           0.0  \n",
       "2  264476000.0        0.0           0.0  \n",
       "3          NaN        NaN           NaN  \n",
       "4          NaN        NaN           NaN  "
      ]
     },
     "execution_count": 447,
     "metadata": {},
     "output_type": "execute_result"
    }
   ],
   "source": [
    "df_final.head()"
   ]
  },
  {
   "cell_type": "code",
   "execution_count": 448,
   "metadata": {},
   "outputs": [
    {
     "data": {
      "text/plain": [
       "311"
      ]
     },
     "execution_count": 448,
     "metadata": {},
     "output_type": "execute_result"
    }
   ],
   "source": [
    "len(df_final)"
   ]
  },
  {
   "cell_type": "markdown",
   "metadata": {},
   "source": [
    "# Price Prediction"
   ]
  },
  {
   "cell_type": "code",
   "execution_count": 885,
   "metadata": {},
   "outputs": [],
   "source": [
    "from sklearn import metrics\n",
    "from sklearn.metrics import make_scorer, mean_squared_error\n",
    "from sklearn.model_selection import GridSearchCV, RandomizedSearchCV\n",
    "from statsmodels.tsa.seasonal import seasonal_decompose"
   ]
  },
  {
   "cell_type": "code",
   "execution_count": 886,
   "metadata": {},
   "outputs": [
    {
     "data": {
      "text/html": [
       "<div>\n",
       "<style scoped>\n",
       "    .dataframe tbody tr th:only-of-type {\n",
       "        vertical-align: middle;\n",
       "    }\n",
       "\n",
       "    .dataframe tbody tr th {\n",
       "        vertical-align: top;\n",
       "    }\n",
       "\n",
       "    .dataframe thead th {\n",
       "        text-align: right;\n",
       "    }\n",
       "</style>\n",
       "<table border=\"1\" class=\"dataframe\">\n",
       "  <thead>\n",
       "    <tr style=\"text-align: right;\">\n",
       "      <th></th>\n",
       "      <th>Year</th>\n",
       "      <th>∆t</th>\n",
       "      <th>Month</th>\n",
       "      <th>day</th>\n",
       "      <th>weekday</th>\n",
       "      <th>Date</th>\n",
       "      <th>body</th>\n",
       "      <th>total_score</th>\n",
       "      <th>average_score</th>\n",
       "      <th>pos_count</th>\n",
       "      <th>pos_prop</th>\n",
       "      <th>Open</th>\n",
       "      <th>High</th>\n",
       "      <th>Low</th>\n",
       "      <th>Close</th>\n",
       "      <th>Volume</th>\n",
       "      <th>Dividends</th>\n",
       "      <th>Stock Splits</th>\n",
       "      <th>trend</th>\n",
       "      <th>seasonal</th>\n",
       "    </tr>\n",
       "  </thead>\n",
       "  <tbody>\n",
       "    <tr>\n",
       "      <th>0</th>\n",
       "      <td>2020</td>\n",
       "      <td>0</td>\n",
       "      <td>6</td>\n",
       "      <td>17</td>\n",
       "      <td>2</td>\n",
       "      <td>2020-06-17</td>\n",
       "      <td>619</td>\n",
       "      <td>486.633606</td>\n",
       "      <td>0.786161</td>\n",
       "      <td>519</td>\n",
       "      <td>0.838449</td>\n",
       "      <td>88.193247</td>\n",
       "      <td>88.255328</td>\n",
       "      <td>87.185041</td>\n",
       "      <td>87.309204</td>\n",
       "      <td>1.144064e+08</td>\n",
       "      <td>0.0</td>\n",
       "      <td>0.0</td>\n",
       "      <td>87.776451</td>\n",
       "      <td>0.068787</td>\n",
       "    </tr>\n",
       "    <tr>\n",
       "      <th>1</th>\n",
       "      <td>2020</td>\n",
       "      <td>1 days 00:00:00</td>\n",
       "      <td>6</td>\n",
       "      <td>18</td>\n",
       "      <td>3</td>\n",
       "      <td>2020-06-18</td>\n",
       "      <td>765</td>\n",
       "      <td>569.742188</td>\n",
       "      <td>0.744761</td>\n",
       "      <td>614</td>\n",
       "      <td>0.802614</td>\n",
       "      <td>87.264512</td>\n",
       "      <td>87.771101</td>\n",
       "      <td>86.720676</td>\n",
       "      <td>87.343979</td>\n",
       "      <td>9.682040e+07</td>\n",
       "      <td>0.0</td>\n",
       "      <td>0.0</td>\n",
       "      <td>87.980214</td>\n",
       "      <td>-0.091560</td>\n",
       "    </tr>\n",
       "    <tr>\n",
       "      <th>2</th>\n",
       "      <td>2020</td>\n",
       "      <td>1 days 00:00:00</td>\n",
       "      <td>6</td>\n",
       "      <td>19</td>\n",
       "      <td>4</td>\n",
       "      <td>2020-06-19</td>\n",
       "      <td>600</td>\n",
       "      <td>444.131714</td>\n",
       "      <td>0.740220</td>\n",
       "      <td>470</td>\n",
       "      <td>0.783333</td>\n",
       "      <td>88.066604</td>\n",
       "      <td>88.543387</td>\n",
       "      <td>85.709978</td>\n",
       "      <td>86.844833</td>\n",
       "      <td>2.644760e+08</td>\n",
       "      <td>0.0</td>\n",
       "      <td>0.0</td>\n",
       "      <td>88.183976</td>\n",
       "      <td>-0.362318</td>\n",
       "    </tr>\n",
       "    <tr>\n",
       "      <th>3</th>\n",
       "      <td>2020</td>\n",
       "      <td>1 days 00:00:00</td>\n",
       "      <td>6</td>\n",
       "      <td>20</td>\n",
       "      <td>5</td>\n",
       "      <td>2020-06-20</td>\n",
       "      <td>722</td>\n",
       "      <td>540.997009</td>\n",
       "      <td>0.749303</td>\n",
       "      <td>564</td>\n",
       "      <td>0.781163</td>\n",
       "      <td>87.793445</td>\n",
       "      <td>88.783438</td>\n",
       "      <td>86.206634</td>\n",
       "      <td>87.602231</td>\n",
       "      <td>2.214657e+08</td>\n",
       "      <td>0.0</td>\n",
       "      <td>0.0</td>\n",
       "      <td>88.228015</td>\n",
       "      <td>-0.147401</td>\n",
       "    </tr>\n",
       "    <tr>\n",
       "      <th>4</th>\n",
       "      <td>2020</td>\n",
       "      <td>1 days 00:00:00</td>\n",
       "      <td>6</td>\n",
       "      <td>21</td>\n",
       "      <td>6</td>\n",
       "      <td>2020-06-21</td>\n",
       "      <td>251</td>\n",
       "      <td>187.757950</td>\n",
       "      <td>0.748040</td>\n",
       "      <td>194</td>\n",
       "      <td>0.772908</td>\n",
       "      <td>87.520286</td>\n",
       "      <td>89.023489</td>\n",
       "      <td>86.703289</td>\n",
       "      <td>88.359629</td>\n",
       "      <td>1.784555e+08</td>\n",
       "      <td>0.0</td>\n",
       "      <td>0.0</td>\n",
       "      <td>88.528491</td>\n",
       "      <td>-0.002659</td>\n",
       "    </tr>\n",
       "  </tbody>\n",
       "</table>\n",
       "</div>"
      ],
      "text/plain": [
       "   Year               ∆t  Month  day  weekday       Date  body  total_score  \\\n",
       "0  2020                0      6   17        2 2020-06-17   619   486.633606   \n",
       "1  2020  1 days 00:00:00      6   18        3 2020-06-18   765   569.742188   \n",
       "2  2020  1 days 00:00:00      6   19        4 2020-06-19   600   444.131714   \n",
       "3  2020  1 days 00:00:00      6   20        5 2020-06-20   722   540.997009   \n",
       "4  2020  1 days 00:00:00      6   21        6 2020-06-21   251   187.757950   \n",
       "\n",
       "   average_score  pos_count  pos_prop       Open       High        Low  \\\n",
       "0       0.786161        519  0.838449  88.193247  88.255328  87.185041   \n",
       "1       0.744761        614  0.802614  87.264512  87.771101  86.720676   \n",
       "2       0.740220        470  0.783333  88.066604  88.543387  85.709978   \n",
       "3       0.749303        564  0.781163  87.793445  88.783438  86.206634   \n",
       "4       0.748040        194  0.772908  87.520286  89.023489  86.703289   \n",
       "\n",
       "       Close        Volume  Dividends  Stock Splits      trend  seasonal  \n",
       "0  87.309204  1.144064e+08        0.0           0.0  87.776451  0.068787  \n",
       "1  87.343979  9.682040e+07        0.0           0.0  87.980214 -0.091560  \n",
       "2  86.844833  2.644760e+08        0.0           0.0  88.183976 -0.362318  \n",
       "3  87.602231  2.214657e+08        0.0           0.0  88.228015 -0.147401  \n",
       "4  88.359629  1.784555e+08        0.0           0.0  88.528491 -0.002659  "
      ]
     },
     "execution_count": 886,
     "metadata": {},
     "output_type": "execute_result"
    }
   ],
   "source": [
    "i=304\n",
    "full_df = df_final.copy(deep=True)\n",
    "full_df['Date'] = pd.to_datetime(full_df.Date)\n",
    "full_df = full_df.interpolate(method='linear')\n",
    "result = seasonal_decompose(full_df[['Close']], model='additive', period=7, extrapolate_trend='freq')\n",
    "full_df['trend'] = result.trend\n",
    "full_df['seasonal'] = result.seasonal\n",
    "deltaT = np.array([(full_df.Date[i + 1] - full_df.Date[i]) for i in range(len(full_df)-1)])\n",
    "deltaT = np.concatenate((np.array([0]), deltaT))\n",
    "full_df.insert(1, '∆t', deltaT)\n",
    "full_df.head()"
   ]
  },
  {
   "cell_type": "markdown",
   "metadata": {},
   "source": [
    "# Correlation of Closing price with total_score and pos_prop"
   ]
  },
  {
   "cell_type": "code",
   "execution_count": 451,
   "metadata": {},
   "outputs": [
    {
     "data": {
      "text/plain": [
       "array([[1.        , 0.37375825],\n",
       "       [0.37375825, 1.        ]])"
      ]
     },
     "execution_count": 451,
     "metadata": {},
     "output_type": "execute_result"
    }
   ],
   "source": [
    "np.corrcoef(full_df['Close'],full_df['total_score'])"
   ]
  },
  {
   "cell_type": "code",
   "execution_count": 452,
   "metadata": {},
   "outputs": [
    {
     "data": {
      "text/plain": [
       "array([[1.        , 0.38442789],\n",
       "       [0.38442789, 1.        ]])"
      ]
     },
     "execution_count": 452,
     "metadata": {},
     "output_type": "execute_result"
    }
   ],
   "source": [
    "np.corrcoef(full_df['Close'],full_df['pos_prop'])"
   ]
  },
  {
   "cell_type": "code",
   "execution_count": 887,
   "metadata": {},
   "outputs": [
    {
     "data": {
      "text/plain": [
       "array([[1.       , 0.4560541],\n",
       "       [0.4560541, 1.       ]])"
      ]
     },
     "execution_count": 887,
     "metadata": {},
     "output_type": "execute_result"
    }
   ],
   "source": [
    "np.corrcoef(full_df['Close'],full_df['average_score'])"
   ]
  },
  {
   "cell_type": "code",
   "execution_count": 454,
   "metadata": {},
   "outputs": [
    {
     "data": {
      "text/plain": [
       "array([[1.        , 0.33139081],\n",
       "       [0.33139081, 1.        ]])"
      ]
     },
     "execution_count": 454,
     "metadata": {},
     "output_type": "execute_result"
    }
   ],
   "source": [
    "np.corrcoef(full_df['Close'],full_df['body'])"
   ]
  },
  {
   "cell_type": "markdown",
   "metadata": {},
   "source": [
    "### We could observe some correlation between closing price of stock and average sentiment score for that day"
   ]
  },
  {
   "cell_type": "markdown",
   "metadata": {},
   "source": [
    "# Multivariate Time series (Forecasting stock price using past prices and sentiment)"
   ]
  },
  {
   "cell_type": "code",
   "execution_count": 1263,
   "metadata": {},
   "outputs": [
    {
     "data": {
      "text/html": [
       "<div>\n",
       "<style scoped>\n",
       "    .dataframe tbody tr th:only-of-type {\n",
       "        vertical-align: middle;\n",
       "    }\n",
       "\n",
       "    .dataframe tbody tr th {\n",
       "        vertical-align: top;\n",
       "    }\n",
       "\n",
       "    .dataframe thead th {\n",
       "        text-align: right;\n",
       "    }\n",
       "</style>\n",
       "<table border=\"1\" class=\"dataframe\">\n",
       "  <thead>\n",
       "    <tr style=\"text-align: right;\">\n",
       "      <th></th>\n",
       "      <th>Year</th>\n",
       "      <th>∆t</th>\n",
       "      <th>Month</th>\n",
       "      <th>day</th>\n",
       "      <th>weekday</th>\n",
       "      <th>Date</th>\n",
       "      <th>body</th>\n",
       "      <th>total_score</th>\n",
       "      <th>average_score</th>\n",
       "      <th>pos_count</th>\n",
       "      <th>pos_prop</th>\n",
       "      <th>Open</th>\n",
       "      <th>High</th>\n",
       "      <th>Low</th>\n",
       "      <th>Close</th>\n",
       "      <th>Volume</th>\n",
       "      <th>Dividends</th>\n",
       "      <th>Stock Splits</th>\n",
       "      <th>trend</th>\n",
       "      <th>seasonal</th>\n",
       "    </tr>\n",
       "  </thead>\n",
       "  <tbody>\n",
       "    <tr>\n",
       "      <th>0</th>\n",
       "      <td>2020</td>\n",
       "      <td>0</td>\n",
       "      <td>6</td>\n",
       "      <td>17</td>\n",
       "      <td>2</td>\n",
       "      <td>2020-06-17</td>\n",
       "      <td>619</td>\n",
       "      <td>486.633606</td>\n",
       "      <td>0.786161</td>\n",
       "      <td>519</td>\n",
       "      <td>0.838449</td>\n",
       "      <td>88.193247</td>\n",
       "      <td>88.255328</td>\n",
       "      <td>87.185041</td>\n",
       "      <td>87.309204</td>\n",
       "      <td>1.144064e+08</td>\n",
       "      <td>0.0</td>\n",
       "      <td>0.0</td>\n",
       "      <td>87.776451</td>\n",
       "      <td>0.068787</td>\n",
       "    </tr>\n",
       "    <tr>\n",
       "      <th>1</th>\n",
       "      <td>2020</td>\n",
       "      <td>1 days 00:00:00</td>\n",
       "      <td>6</td>\n",
       "      <td>18</td>\n",
       "      <td>3</td>\n",
       "      <td>2020-06-18</td>\n",
       "      <td>765</td>\n",
       "      <td>569.742188</td>\n",
       "      <td>0.744761</td>\n",
       "      <td>614</td>\n",
       "      <td>0.802614</td>\n",
       "      <td>87.264512</td>\n",
       "      <td>87.771101</td>\n",
       "      <td>86.720676</td>\n",
       "      <td>87.343979</td>\n",
       "      <td>9.682040e+07</td>\n",
       "      <td>0.0</td>\n",
       "      <td>0.0</td>\n",
       "      <td>87.980214</td>\n",
       "      <td>-0.091560</td>\n",
       "    </tr>\n",
       "    <tr>\n",
       "      <th>2</th>\n",
       "      <td>2020</td>\n",
       "      <td>1 days 00:00:00</td>\n",
       "      <td>6</td>\n",
       "      <td>19</td>\n",
       "      <td>4</td>\n",
       "      <td>2020-06-19</td>\n",
       "      <td>600</td>\n",
       "      <td>444.131714</td>\n",
       "      <td>0.740220</td>\n",
       "      <td>470</td>\n",
       "      <td>0.783333</td>\n",
       "      <td>88.066604</td>\n",
       "      <td>88.543387</td>\n",
       "      <td>85.709978</td>\n",
       "      <td>86.844833</td>\n",
       "      <td>2.644760e+08</td>\n",
       "      <td>0.0</td>\n",
       "      <td>0.0</td>\n",
       "      <td>88.183976</td>\n",
       "      <td>-0.362318</td>\n",
       "    </tr>\n",
       "    <tr>\n",
       "      <th>3</th>\n",
       "      <td>2020</td>\n",
       "      <td>1 days 00:00:00</td>\n",
       "      <td>6</td>\n",
       "      <td>20</td>\n",
       "      <td>5</td>\n",
       "      <td>2020-06-20</td>\n",
       "      <td>722</td>\n",
       "      <td>540.997009</td>\n",
       "      <td>0.749303</td>\n",
       "      <td>564</td>\n",
       "      <td>0.781163</td>\n",
       "      <td>87.793445</td>\n",
       "      <td>88.783438</td>\n",
       "      <td>86.206634</td>\n",
       "      <td>87.602231</td>\n",
       "      <td>2.214657e+08</td>\n",
       "      <td>0.0</td>\n",
       "      <td>0.0</td>\n",
       "      <td>88.228015</td>\n",
       "      <td>-0.147401</td>\n",
       "    </tr>\n",
       "    <tr>\n",
       "      <th>4</th>\n",
       "      <td>2020</td>\n",
       "      <td>1 days 00:00:00</td>\n",
       "      <td>6</td>\n",
       "      <td>21</td>\n",
       "      <td>6</td>\n",
       "      <td>2020-06-21</td>\n",
       "      <td>251</td>\n",
       "      <td>187.757950</td>\n",
       "      <td>0.748040</td>\n",
       "      <td>194</td>\n",
       "      <td>0.772908</td>\n",
       "      <td>87.520286</td>\n",
       "      <td>89.023489</td>\n",
       "      <td>86.703289</td>\n",
       "      <td>88.359629</td>\n",
       "      <td>1.784555e+08</td>\n",
       "      <td>0.0</td>\n",
       "      <td>0.0</td>\n",
       "      <td>88.528491</td>\n",
       "      <td>-0.002659</td>\n",
       "    </tr>\n",
       "  </tbody>\n",
       "</table>\n",
       "</div>"
      ],
      "text/plain": [
       "   Year               ∆t  Month  day  weekday       Date  body  total_score  \\\n",
       "0  2020                0      6   17        2 2020-06-17   619   486.633606   \n",
       "1  2020  1 days 00:00:00      6   18        3 2020-06-18   765   569.742188   \n",
       "2  2020  1 days 00:00:00      6   19        4 2020-06-19   600   444.131714   \n",
       "3  2020  1 days 00:00:00      6   20        5 2020-06-20   722   540.997009   \n",
       "4  2020  1 days 00:00:00      6   21        6 2020-06-21   251   187.757950   \n",
       "\n",
       "   average_score  pos_count  pos_prop       Open       High        Low  \\\n",
       "0       0.786161        519  0.838449  88.193247  88.255328  87.185041   \n",
       "1       0.744761        614  0.802614  87.264512  87.771101  86.720676   \n",
       "2       0.740220        470  0.783333  88.066604  88.543387  85.709978   \n",
       "3       0.749303        564  0.781163  87.793445  88.783438  86.206634   \n",
       "4       0.748040        194  0.772908  87.520286  89.023489  86.703289   \n",
       "\n",
       "       Close        Volume  Dividends  Stock Splits      trend  seasonal  \n",
       "0  87.309204  1.144064e+08        0.0           0.0  87.776451  0.068787  \n",
       "1  87.343979  9.682040e+07        0.0           0.0  87.980214 -0.091560  \n",
       "2  86.844833  2.644760e+08        0.0           0.0  88.183976 -0.362318  \n",
       "3  87.602231  2.214657e+08        0.0           0.0  88.228015 -0.147401  \n",
       "4  88.359629  1.784555e+08        0.0           0.0  88.528491 -0.002659  "
      ]
     },
     "execution_count": 1263,
     "metadata": {},
     "output_type": "execute_result"
    }
   ],
   "source": [
    "full_df.head()"
   ]
  },
  {
   "cell_type": "code",
   "execution_count": 1264,
   "metadata": {},
   "outputs": [],
   "source": [
    "df = full_df[full_df['Date'] < '2021-03-27']\n",
    "train_dates = df['Date']"
   ]
  },
  {
   "cell_type": "code",
   "execution_count": 1267,
   "metadata": {},
   "outputs": [],
   "source": [
    "cols = list(df[['Close','average_score']])\n",
    "df_for_training = df[cols].astype(float)"
   ]
  },
  {
   "cell_type": "code",
   "execution_count": 1268,
   "metadata": {},
   "outputs": [],
   "source": [
    "from sklearn.preprocessing import StandardScaler\n",
    "scalar = StandardScaler()\n",
    "scalar = scalar.fit(df_for_training)\n",
    "df_for_training_scaled = scalar.transform(df_for_training)"
   ]
  },
  {
   "cell_type": "code",
   "execution_count": 1296,
   "metadata": {},
   "outputs": [],
   "source": [
    "trainX =[]\n",
    "trainY =[]\n",
    "n_future =1\n",
    "n_past = 200"
   ]
  },
  {
   "cell_type": "code",
   "execution_count": 1297,
   "metadata": {},
   "outputs": [],
   "source": [
    "for i in range(n_past, len(df_for_training_scaled) -n_future+1):\n",
    "    trainX.append(df_for_training_scaled[i-n_past:i,0:df_for_training.shape[1]])\n",
    "    trainY.append(df_for_training_scaled[i+n_future - 1:i+n_future,0])\n",
    "trainX, trainY = np.array(trainX), np.array(trainY)"
   ]
  },
  {
   "cell_type": "code",
   "execution_count": 1298,
   "metadata": {},
   "outputs": [
    {
     "name": "stdout",
     "output_type": "stream",
     "text": [
      "(83, 200, 2)\n",
      "(83, 1)\n"
     ]
    }
   ],
   "source": [
    "print(trainX.shape)\n",
    "print(trainY.shape)"
   ]
  },
  {
   "cell_type": "code",
   "execution_count": 1299,
   "metadata": {},
   "outputs": [
    {
     "name": "stdout",
     "output_type": "stream",
     "text": [
      "Epoch 1/400\n",
      "3/3 [==============================] - 1s 167ms/step - loss: 0.5030 - mae: 0.9347 - val_loss: 0.0418 - val_mae: 0.2765\n",
      "Epoch 2/400\n",
      "3/3 [==============================] - 0s 71ms/step - loss: 0.5008 - mae: 0.9322 - val_loss: 0.0413 - val_mae: 0.2743\n",
      "Epoch 3/400\n",
      "3/3 [==============================] - 0s 75ms/step - loss: 0.4971 - mae: 0.9278 - val_loss: 0.0404 - val_mae: 0.2713\n",
      "Epoch 4/400\n",
      "3/3 [==============================] - 0s 75ms/step - loss: 0.4917 - mae: 0.9217 - val_loss: 0.0395 - val_mae: 0.2678\n",
      "Epoch 5/400\n",
      "3/3 [==============================] - 0s 78ms/step - loss: 0.4858 - mae: 0.9149 - val_loss: 0.0384 - val_mae: 0.2638\n",
      "Epoch 6/400\n",
      "3/3 [==============================] - 0s 77ms/step - loss: 0.4790 - mae: 0.9071 - val_loss: 0.0373 - val_mae: 0.2595\n",
      "Epoch 7/400\n",
      "3/3 [==============================] - 0s 78ms/step - loss: 0.4723 - mae: 0.8991 - val_loss: 0.0362 - val_mae: 0.2549\n",
      "Epoch 8/400\n",
      "3/3 [==============================] - 0s 77ms/step - loss: 0.4647 - mae: 0.8903 - val_loss: 0.0350 - val_mae: 0.2502\n",
      "Epoch 9/400\n",
      "3/3 [==============================] - 0s 77ms/step - loss: 0.4574 - mae: 0.8818 - val_loss: 0.0338 - val_mae: 0.2454\n",
      "Epoch 10/400\n",
      "3/3 [==============================] - 0s 75ms/step - loss: 0.4498 - mae: 0.8730 - val_loss: 0.0327 - val_mae: 0.2406\n",
      "Epoch 11/400\n",
      "3/3 [==============================] - 0s 76ms/step - loss: 0.4424 - mae: 0.8641 - val_loss: 0.0315 - val_mae: 0.2358\n",
      "Epoch 12/400\n",
      "3/3 [==============================] - 0s 75ms/step - loss: 0.4351 - mae: 0.8553 - val_loss: 0.0304 - val_mae: 0.2309\n",
      "Epoch 13/400\n",
      "3/3 [==============================] - 0s 76ms/step - loss: 0.4275 - mae: 0.8464 - val_loss: 0.0293 - val_mae: 0.2261\n",
      "Epoch 14/400\n",
      "3/3 [==============================] - 0s 76ms/step - loss: 0.4203 - mae: 0.8378 - val_loss: 0.0282 - val_mae: 0.2213\n",
      "Epoch 15/400\n",
      "3/3 [==============================] - 0s 76ms/step - loss: 0.4134 - mae: 0.8295 - val_loss: 0.0272 - val_mae: 0.2165\n",
      "Epoch 16/400\n",
      "3/3 [==============================] - 0s 76ms/step - loss: 0.4068 - mae: 0.8215 - val_loss: 0.0262 - val_mae: 0.2117\n",
      "Epoch 17/400\n",
      "3/3 [==============================] - 0s 76ms/step - loss: 0.3998 - mae: 0.8131 - val_loss: 0.0252 - val_mae: 0.2070\n",
      "Epoch 18/400\n",
      "3/3 [==============================] - 0s 76ms/step - loss: 0.3935 - mae: 0.8052 - val_loss: 0.0242 - val_mae: 0.2022\n",
      "Epoch 19/400\n",
      "3/3 [==============================] - 0s 75ms/step - loss: 0.3869 - mae: 0.7972 - val_loss: 0.0233 - val_mae: 0.1974\n",
      "Epoch 20/400\n",
      "3/3 [==============================] - 0s 77ms/step - loss: 0.3804 - mae: 0.7893 - val_loss: 0.0223 - val_mae: 0.1925\n",
      "Epoch 21/400\n",
      "3/3 [==============================] - 0s 76ms/step - loss: 0.3742 - mae: 0.7816 - val_loss: 0.0214 - val_mae: 0.1876\n",
      "Epoch 22/400\n",
      "3/3 [==============================] - 0s 74ms/step - loss: 0.3678 - mae: 0.7736 - val_loss: 0.0205 - val_mae: 0.1827\n",
      "Epoch 23/400\n",
      "3/3 [==============================] - 0s 75ms/step - loss: 0.3615 - mae: 0.7658 - val_loss: 0.0196 - val_mae: 0.1778\n",
      "Epoch 24/400\n",
      "3/3 [==============================] - 0s 75ms/step - loss: 0.3556 - mae: 0.7582 - val_loss: 0.0188 - val_mae: 0.1728\n",
      "Epoch 25/400\n",
      "3/3 [==============================] - 0s 76ms/step - loss: 0.3495 - mae: 0.7505 - val_loss: 0.0179 - val_mae: 0.1678\n",
      "Epoch 26/400\n",
      "3/3 [==============================] - 0s 76ms/step - loss: 0.3437 - mae: 0.7429 - val_loss: 0.0171 - val_mae: 0.1628\n",
      "Epoch 27/400\n",
      "3/3 [==============================] - 0s 75ms/step - loss: 0.3378 - mae: 0.7353 - val_loss: 0.0163 - val_mae: 0.1579\n",
      "Epoch 28/400\n",
      "3/3 [==============================] - 0s 75ms/step - loss: 0.3321 - mae: 0.7279 - val_loss: 0.0156 - val_mae: 0.1530\n",
      "Epoch 29/400\n",
      "3/3 [==============================] - 0s 76ms/step - loss: 0.3264 - mae: 0.7205 - val_loss: 0.0149 - val_mae: 0.1481\n",
      "Epoch 30/400\n",
      "3/3 [==============================] - 0s 76ms/step - loss: 0.3209 - mae: 0.7132 - val_loss: 0.0142 - val_mae: 0.1432\n",
      "Epoch 31/400\n",
      "3/3 [==============================] - 0s 74ms/step - loss: 0.3157 - mae: 0.7062 - val_loss: 0.0135 - val_mae: 0.1383\n",
      "Epoch 32/400\n",
      "3/3 [==============================] - 0s 75ms/step - loss: 0.3104 - mae: 0.6991 - val_loss: 0.0128 - val_mae: 0.1333\n",
      "Epoch 33/400\n",
      "3/3 [==============================] - 0s 76ms/step - loss: 0.3053 - mae: 0.6921 - val_loss: 0.0122 - val_mae: 0.1283\n",
      "Epoch 34/400\n",
      "3/3 [==============================] - 0s 76ms/step - loss: 0.2999 - mae: 0.6848 - val_loss: 0.0116 - val_mae: 0.1239\n",
      "Epoch 35/400\n",
      "3/3 [==============================] - 0s 74ms/step - loss: 0.2950 - mae: 0.6779 - val_loss: 0.0110 - val_mae: 0.1202\n",
      "Epoch 36/400\n",
      "3/3 [==============================] - 0s 74ms/step - loss: 0.2902 - mae: 0.6712 - val_loss: 0.0105 - val_mae: 0.1165\n",
      "Epoch 37/400\n",
      "3/3 [==============================] - 0s 76ms/step - loss: 0.2852 - mae: 0.6642 - val_loss: 0.0099 - val_mae: 0.1129\n",
      "Epoch 38/400\n",
      "3/3 [==============================] - 0s 77ms/step - loss: 0.2805 - mae: 0.6574 - val_loss: 0.0094 - val_mae: 0.1092\n",
      "Epoch 39/400\n",
      "3/3 [==============================] - 0s 102ms/step - loss: 0.2757 - mae: 0.6504 - val_loss: 0.0089 - val_mae: 0.1056\n",
      "Epoch 40/400\n",
      "3/3 [==============================] - 0s 94ms/step - loss: 0.2711 - mae: 0.6437 - val_loss: 0.0085 - val_mae: 0.1020\n",
      "Epoch 41/400\n",
      "3/3 [==============================] - 0s 79ms/step - loss: 0.2664 - mae: 0.6368 - val_loss: 0.0081 - val_mae: 0.0984\n",
      "Epoch 42/400\n",
      "3/3 [==============================] - 0s 76ms/step - loss: 0.2618 - mae: 0.6300 - val_loss: 0.0077 - val_mae: 0.0960\n",
      "Epoch 43/400\n",
      "3/3 [==============================] - 0s 79ms/step - loss: 0.2572 - mae: 0.6231 - val_loss: 0.0073 - val_mae: 0.0935\n",
      "Epoch 44/400\n",
      "3/3 [==============================] - 0s 75ms/step - loss: 0.2526 - mae: 0.6163 - val_loss: 0.0069 - val_mae: 0.0916\n",
      "Epoch 45/400\n",
      "3/3 [==============================] - 0s 79ms/step - loss: 0.2481 - mae: 0.6096 - val_loss: 0.0066 - val_mae: 0.0901\n",
      "Epoch 46/400\n",
      "3/3 [==============================] - 0s 77ms/step - loss: 0.2437 - mae: 0.6029 - val_loss: 0.0063 - val_mae: 0.0887\n",
      "Epoch 47/400\n",
      "3/3 [==============================] - 0s 75ms/step - loss: 0.2391 - mae: 0.5961 - val_loss: 0.0060 - val_mae: 0.0874\n",
      "Epoch 48/400\n",
      "3/3 [==============================] - 0s 79ms/step - loss: 0.2349 - mae: 0.5896 - val_loss: 0.0057 - val_mae: 0.0860\n",
      "Epoch 49/400\n",
      "3/3 [==============================] - 0s 76ms/step - loss: 0.2308 - mae: 0.5832 - val_loss: 0.0055 - val_mae: 0.0846\n",
      "Epoch 50/400\n",
      "3/3 [==============================] - 0s 76ms/step - loss: 0.2263 - mae: 0.5764 - val_loss: 0.0052 - val_mae: 0.0832\n",
      "Epoch 51/400\n",
      "3/3 [==============================] - 0s 74ms/step - loss: 0.2224 - mae: 0.5700 - val_loss: 0.0050 - val_mae: 0.0819\n",
      "Epoch 52/400\n",
      "3/3 [==============================] - 0s 75ms/step - loss: 0.2183 - mae: 0.5637 - val_loss: 0.0049 - val_mae: 0.0805\n",
      "Epoch 53/400\n",
      "3/3 [==============================] - 0s 76ms/step - loss: 0.2144 - mae: 0.5575 - val_loss: 0.0047 - val_mae: 0.0792\n",
      "Epoch 54/400\n",
      "3/3 [==============================] - 0s 72ms/step - loss: 0.2104 - mae: 0.5512 - val_loss: 0.0046 - val_mae: 0.0789\n",
      "Epoch 55/400\n",
      "3/3 [==============================] - 0s 77ms/step - loss: 0.2065 - mae: 0.5449 - val_loss: 0.0045 - val_mae: 0.0786\n",
      "Epoch 56/400\n",
      "3/3 [==============================] - 0s 80ms/step - loss: 0.2026 - mae: 0.5383 - val_loss: 0.0044 - val_mae: 0.0784\n",
      "Epoch 57/400\n",
      "3/3 [==============================] - 0s 73ms/step - loss: 0.1988 - mae: 0.5323 - val_loss: 0.0043 - val_mae: 0.0790\n",
      "Epoch 58/400\n",
      "3/3 [==============================] - 0s 75ms/step - loss: 0.1950 - mae: 0.5260 - val_loss: 0.0042 - val_mae: 0.0796\n",
      "Epoch 59/400\n",
      "3/3 [==============================] - 0s 76ms/step - loss: 0.1914 - mae: 0.5199 - val_loss: 0.0042 - val_mae: 0.0802\n",
      "Epoch 60/400\n",
      "3/3 [==============================] - 0s 72ms/step - loss: 0.1876 - mae: 0.5138 - val_loss: 0.0042 - val_mae: 0.0808\n",
      "Epoch 61/400\n",
      "3/3 [==============================] - 0s 75ms/step - loss: 0.1842 - mae: 0.5081 - val_loss: 0.0042 - val_mae: 0.0814\n",
      "Epoch 62/400\n",
      "3/3 [==============================] - 0s 81ms/step - loss: 0.1805 - mae: 0.5017 - val_loss: 0.0042 - val_mae: 0.0820\n",
      "Epoch 63/400\n"
     ]
    },
    {
     "name": "stdout",
     "output_type": "stream",
     "text": [
      "3/3 [==============================] - 0s 74ms/step - loss: 0.1770 - mae: 0.4957 - val_loss: 0.0043 - val_mae: 0.0826\n",
      "Epoch 64/400\n",
      "3/3 [==============================] - 0s 73ms/step - loss: 0.1734 - mae: 0.4894 - val_loss: 0.0044 - val_mae: 0.0832\n",
      "Epoch 65/400\n",
      "3/3 [==============================] - 0s 73ms/step - loss: 0.1701 - mae: 0.4836 - val_loss: 0.0044 - val_mae: 0.0838\n",
      "Epoch 66/400\n",
      "3/3 [==============================] - 0s 73ms/step - loss: 0.1666 - mae: 0.4772 - val_loss: 0.0045 - val_mae: 0.0844\n",
      "Epoch 67/400\n",
      "3/3 [==============================] - 0s 75ms/step - loss: 0.1634 - mae: 0.4712 - val_loss: 0.0047 - val_mae: 0.0849\n",
      "Epoch 68/400\n",
      "3/3 [==============================] - 0s 74ms/step - loss: 0.1602 - mae: 0.4656 - val_loss: 0.0048 - val_mae: 0.0855\n",
      "Epoch 69/400\n",
      "3/3 [==============================] - 0s 76ms/step - loss: 0.1569 - mae: 0.4594 - val_loss: 0.0050 - val_mae: 0.0861\n",
      "Epoch 70/400\n",
      "3/3 [==============================] - 0s 74ms/step - loss: 0.1537 - mae: 0.4533 - val_loss: 0.0051 - val_mae: 0.0867\n",
      "Epoch 71/400\n",
      "3/3 [==============================] - 0s 73ms/step - loss: 0.1507 - mae: 0.4477 - val_loss: 0.0053 - val_mae: 0.0873\n",
      "Epoch 72/400\n",
      "3/3 [==============================] - 0s 73ms/step - loss: 0.1475 - mae: 0.4417 - val_loss: 0.0055 - val_mae: 0.0878\n",
      "Epoch 73/400\n",
      "3/3 [==============================] - 0s 73ms/step - loss: 0.1446 - mae: 0.4359 - val_loss: 0.0058 - val_mae: 0.0889\n",
      "Epoch 74/400\n",
      "3/3 [==============================] - 0s 73ms/step - loss: 0.1416 - mae: 0.4300 - val_loss: 0.0060 - val_mae: 0.0902\n",
      "Epoch 75/400\n",
      "3/3 [==============================] - 0s 76ms/step - loss: 0.1387 - mae: 0.4241 - val_loss: 0.0063 - val_mae: 0.0916\n",
      "Epoch 76/400\n",
      "3/3 [==============================] - 0s 87ms/step - loss: 0.1357 - mae: 0.4181 - val_loss: 0.0066 - val_mae: 0.0930\n",
      "Epoch 77/400\n",
      "3/3 [==============================] - 0s 90ms/step - loss: 0.1329 - mae: 0.4123 - val_loss: 0.0069 - val_mae: 0.0954\n",
      "Epoch 78/400\n",
      "3/3 [==============================] - 0s 89ms/step - loss: 0.1300 - mae: 0.4064 - val_loss: 0.0072 - val_mae: 0.0976\n",
      "Epoch 79/400\n",
      "3/3 [==============================] - 0s 91ms/step - loss: 0.1273 - mae: 0.4010 - val_loss: 0.0075 - val_mae: 0.0999\n",
      "Epoch 80/400\n",
      "3/3 [==============================] - 0s 90ms/step - loss: 0.1246 - mae: 0.3956 - val_loss: 0.0078 - val_mae: 0.1021\n"
     ]
    }
   ],
   "source": [
    "model = tf.keras.models.Sequential()\n",
    "model.add(LSTM(64, activation=\"relu\", input_shape=(trainX.shape[1], trainX.shape[2]), return_sequences=True))\n",
    "model.add(LSTM(32, activation=\"relu\", return_sequences=False))\n",
    "model.add(Dense(trainY.shape[1]))\n",
    "optimizer = tf.keras.optimizers.SGD(lr=1e-4, momentum=0.9)\n",
    "model.compile(loss=tf.keras.losses.Huber(),\n",
    "              optimizer=optimizer,\n",
    "              metrics=[\"mae\"])\n",
    "history = model.fit(trainX, trainY, epochs=400, validation_split=0.1, verbose =1, callbacks = [early_stop])"
   ]
  },
  {
   "cell_type": "code",
   "execution_count": 1300,
   "metadata": {},
   "outputs": [
    {
     "name": "stdout",
     "output_type": "stream",
     "text": [
      "WARNING:tensorflow:5 out of the last 14 calls to <function Model.make_predict_function.<locals>.predict_function at 0x000002674C3A65E0> triggered tf.function retracing. Tracing is expensive and the excessive number of tracings could be due to (1) creating @tf.function repeatedly in a loop, (2) passing tensors with different shapes, (3) passing Python objects instead of tensors. For (1), please define your @tf.function outside of the loop. For (2), @tf.function has experimental_relax_shapes=True option that relaxes argument shapes that can avoid unnecessary retracing. For (3), please refer to https://www.tensorflow.org/tutorials/customization/performance#python_or_tensor_args and https://www.tensorflow.org/api_docs/python/tf/function for  more details.\n"
     ]
    }
   ],
   "source": [
    "n_future = 28\n",
    "forecast_period_dates = pd.date_range(list(train_dates)[-1], periods= n_future, freq = '1d').tolist()\n",
    "forecast = model.predict(trainX[-n_future:])"
   ]
  },
  {
   "cell_type": "code",
   "execution_count": 1301,
   "metadata": {},
   "outputs": [],
   "source": [
    "#Converting the shape of forecasted array to Xtrain shape to unscale the prediction\n",
    "forecast_copies = np.repeat(forecast, df_for_training.shape[1], axis =-1)\n",
    "y_pred_future = scalar.inverse_transform(forecast_copies)[:,0]"
   ]
  },
  {
   "cell_type": "code",
   "execution_count": 1302,
   "metadata": {},
   "outputs": [
    {
     "name": "stdout",
     "output_type": "stream",
     "text": [
      "7.252805\n"
     ]
    }
   ],
   "source": [
    "error = tf.keras.metrics.mean_absolute_error(full_df['Close'][-28:], y_pred_future).numpy()\n",
    "print(error)"
   ]
  },
  {
   "cell_type": "markdown",
   "metadata": {},
   "source": [
    "# Plotting Forecasetd price vs actual price"
   ]
  },
  {
   "cell_type": "code",
   "execution_count": 1303,
   "metadata": {},
   "outputs": [
    {
     "data": {
      "text/plain": [
       "[<matplotlib.lines.Line2D at 0x266ae060eb0>]"
      ]
     },
     "execution_count": 1303,
     "metadata": {},
     "output_type": "execute_result"
    },
    {
     "data": {
      "image/png": "[encoded data removed]",
      "text/plain": [
       "<Figure size 1080x432 with 1 Axes>"
      ]
     },
     "metadata": {
      "needs_background": "light"
     },
     "output_type": "display_data"
    }
   ],
   "source": [
    "plt.figure(figsize=(15, 6)) \n",
    "price_date = full_df['Date']\n",
    "price_close = full_df['Close']\n",
    "\n",
    "plt.plot_date(price_date, price_close, linestyle='solid',color='k')\n",
    "\n",
    "price_date_2 = full_df['Date'][len(full_df)-len(y_pred_future):]\n",
    "price_close_2 = y_pred_future\n",
    "plt.plot_date(price_date_2, price_close_2, linestyle='solid',color='g')"
   ]
  },
  {
   "cell_type": "markdown",
   "metadata": {},
   "source": [
    "### Looking at the plot we could see that the predictions from our model are not very accurate. One of the main reason for this could be \n",
    "### 1. lesser data points. The final multivriate time series model had only 250 data points in the train set\n",
    "### 2. Given the lesser data points, a simple logistic regression model might yield better results\n",
    "### 3. We could see that daily average sentiment score had some correlation (0.45) with the closing price. However, relying only on stock_twits for sentiment may not be giving us the actual sentiment. We should also try to include sentiment from other sources such as news headlines, twitter, etc."
   ]
  },
  {
   "cell_type": "code",
   "execution_count": null,
   "metadata": {},
   "outputs": [],
   "source": []
  }
 ],
 "metadata": {
  "kernelspec": {
   "display_name": "Python 3",
   "language": "python",
   "name": "python3"
  },
  "language_info": {
   "codemirror_mode": {
    "name": "ipython",
    "version": 3
   },
   "file_extension": ".py",
   "mimetype": "text/x-python",
   "name": "python",
   "nbconvert_exporter": "python",
   "pygments_lexer": "ipython3",
   "version": "3.8.5"
  }
 },
 "nbformat": 4,
 "nbformat_minor": 4
}
